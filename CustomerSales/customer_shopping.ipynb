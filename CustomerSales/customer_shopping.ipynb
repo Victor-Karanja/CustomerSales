{
 "cells": [
  {
   "attachments": {},
   "cell_type": "markdown",
   "metadata": {},
   "source": [
    "## CUSTOMER SHOPPING DATA"
   ]
  },
  {
   "attachments": {},
   "cell_type": "markdown",
   "metadata": {},
   "source": [
    "# INTRODUCTION"
   ]
  },
  {
   "attachments": {},
   "cell_type": "markdown",
   "metadata": {},
   "source": [
    "I analyse the distriution of a population by performing an EDA analysis on the dataset obtained from Kaggle. The aim of the analysis is to obtain the market share of the malls located across the locality and their target audience.\n",
    "Customer details have also been collected for analysis so as to identify the age group that should be highly targeted during advertisements. In the analysis the mode of payment mostly preffered by the target customers was also identified, this data would be used to equip the malls with the necessary equipments to handle the payment methods.\n",
    "The analysis also aims at identifying the most popular categories for the sample population taken so as to provide information about the likes and needs of the population in terms of market distribution"
   ]
  },
  {
   "cell_type": "code",
   "execution_count": 1,
   "metadata": {},
   "outputs": [],
   "source": [
    "import pandas as pd\n",
    "import numpy as np\n",
    "import matplotlib.pyplot as plt\n",
    "import seaborn as sns\n",
    "%matplotlib inline"
   ]
  },
  {
   "cell_type": "code",
   "execution_count": 2,
   "metadata": {},
   "outputs": [
    {
     "data": {
      "text/html": [
       "<div>\n",
       "<style scoped>\n",
       "    .dataframe tbody tr th:only-of-type {\n",
       "        vertical-align: middle;\n",
       "    }\n",
       "\n",
       "    .dataframe tbody tr th {\n",
       "        vertical-align: top;\n",
       "    }\n",
       "\n",
       "    .dataframe thead th {\n",
       "        text-align: right;\n",
       "    }\n",
       "</style>\n",
       "<table border=\"1\" class=\"dataframe\">\n",
       "  <thead>\n",
       "    <tr style=\"text-align: right;\">\n",
       "      <th></th>\n",
       "      <th>customer_id</th>\n",
       "      <th>gender</th>\n",
       "      <th>age</th>\n",
       "      <th>category</th>\n",
       "      <th>quantity</th>\n",
       "      <th>price</th>\n",
       "      <th>payment_method</th>\n",
       "      <th>invoice_date</th>\n",
       "      <th>shopping_mall</th>\n",
       "    </tr>\n",
       "    <tr>\n",
       "      <th>invoice_no</th>\n",
       "      <th></th>\n",
       "      <th></th>\n",
       "      <th></th>\n",
       "      <th></th>\n",
       "      <th></th>\n",
       "      <th></th>\n",
       "      <th></th>\n",
       "      <th></th>\n",
       "      <th></th>\n",
       "    </tr>\n",
       "  </thead>\n",
       "  <tbody>\n",
       "    <tr>\n",
       "      <th>I138884</th>\n",
       "      <td>C241288</td>\n",
       "      <td>Female</td>\n",
       "      <td>28</td>\n",
       "      <td>Clothing</td>\n",
       "      <td>5</td>\n",
       "      <td>1500.40</td>\n",
       "      <td>Credit Card</td>\n",
       "      <td>5/8/2022</td>\n",
       "      <td>Kanyon</td>\n",
       "    </tr>\n",
       "    <tr>\n",
       "      <th>I317333</th>\n",
       "      <td>C111565</td>\n",
       "      <td>Male</td>\n",
       "      <td>21</td>\n",
       "      <td>Shoes</td>\n",
       "      <td>3</td>\n",
       "      <td>1800.51</td>\n",
       "      <td>Debit Card</td>\n",
       "      <td>12/12/2021</td>\n",
       "      <td>Forum Istanbul</td>\n",
       "    </tr>\n",
       "    <tr>\n",
       "      <th>I127801</th>\n",
       "      <td>C266599</td>\n",
       "      <td>Male</td>\n",
       "      <td>20</td>\n",
       "      <td>Clothing</td>\n",
       "      <td>1</td>\n",
       "      <td>300.08</td>\n",
       "      <td>Cash</td>\n",
       "      <td>9/11/2021</td>\n",
       "      <td>Metrocity</td>\n",
       "    </tr>\n",
       "    <tr>\n",
       "      <th>I173702</th>\n",
       "      <td>C988172</td>\n",
       "      <td>Female</td>\n",
       "      <td>66</td>\n",
       "      <td>Shoes</td>\n",
       "      <td>5</td>\n",
       "      <td>3000.85</td>\n",
       "      <td>Credit Card</td>\n",
       "      <td>16/05/2021</td>\n",
       "      <td>Metropol AVM</td>\n",
       "    </tr>\n",
       "    <tr>\n",
       "      <th>I337046</th>\n",
       "      <td>C189076</td>\n",
       "      <td>Female</td>\n",
       "      <td>53</td>\n",
       "      <td>Books</td>\n",
       "      <td>4</td>\n",
       "      <td>60.60</td>\n",
       "      <td>Cash</td>\n",
       "      <td>24/10/2021</td>\n",
       "      <td>Kanyon</td>\n",
       "    </tr>\n",
       "  </tbody>\n",
       "</table>\n",
       "</div>"
      ],
      "text/plain": [
       "           customer_id  gender  age  category  quantity    price  \\\n",
       "invoice_no                                                         \n",
       "I138884        C241288  Female   28  Clothing         5  1500.40   \n",
       "I317333        C111565    Male   21     Shoes         3  1800.51   \n",
       "I127801        C266599    Male   20  Clothing         1   300.08   \n",
       "I173702        C988172  Female   66     Shoes         5  3000.85   \n",
       "I337046        C189076  Female   53     Books         4    60.60   \n",
       "\n",
       "           payment_method invoice_date   shopping_mall  \n",
       "invoice_no                                              \n",
       "I138884       Credit Card     5/8/2022          Kanyon  \n",
       "I317333        Debit Card   12/12/2021  Forum Istanbul  \n",
       "I127801              Cash    9/11/2021       Metrocity  \n",
       "I173702       Credit Card   16/05/2021    Metropol AVM  \n",
       "I337046              Cash   24/10/2021          Kanyon  "
      ]
     },
     "execution_count": 2,
     "metadata": {},
     "output_type": "execute_result"
    }
   ],
   "source": [
    "data = pd.read_csv('customer_shopping_data.csv', delimiter=',', index_col=0)\n",
    "data.head()"
   ]
  },
  {
   "cell_type": "code",
   "execution_count": 3,
   "metadata": {},
   "outputs": [
    {
     "name": "stdout",
     "output_type": "stream",
     "text": [
      "<class 'pandas.core.frame.DataFrame'>\n",
      "Index: 99457 entries, I138884 to I232867\n",
      "Data columns (total 9 columns):\n",
      " #   Column          Non-Null Count  Dtype  \n",
      "---  ------          --------------  -----  \n",
      " 0   customer_id     99457 non-null  object \n",
      " 1   gender          99457 non-null  object \n",
      " 2   age             99457 non-null  int64  \n",
      " 3   category        99457 non-null  object \n",
      " 4   quantity        99457 non-null  int64  \n",
      " 5   price           99457 non-null  float64\n",
      " 6   payment_method  99457 non-null  object \n",
      " 7   invoice_date    99457 non-null  object \n",
      " 8   shopping_mall   99457 non-null  object \n",
      "dtypes: float64(1), int64(2), object(6)\n",
      "memory usage: 7.6+ MB\n"
     ]
    }
   ],
   "source": [
    "data.info()"
   ]
  },
  {
   "cell_type": "code",
   "execution_count": 4,
   "metadata": {},
   "outputs": [],
   "source": [
    "data['invoice_date'] = pd.to_datetime(data['invoice_date'], format=\"%d/%m/%Y\")"
   ]
  },
  {
   "cell_type": "code",
   "execution_count": 5,
   "metadata": {},
   "outputs": [
    {
     "name": "stdout",
     "output_type": "stream",
     "text": [
      "<class 'pandas.core.frame.DataFrame'>\n",
      "Index: 99457 entries, I138884 to I232867\n",
      "Data columns (total 9 columns):\n",
      " #   Column          Non-Null Count  Dtype         \n",
      "---  ------          --------------  -----         \n",
      " 0   customer_id     99457 non-null  object        \n",
      " 1   gender          99457 non-null  object        \n",
      " 2   age             99457 non-null  int64         \n",
      " 3   category        99457 non-null  object        \n",
      " 4   quantity        99457 non-null  int64         \n",
      " 5   price           99457 non-null  float64       \n",
      " 6   payment_method  99457 non-null  object        \n",
      " 7   invoice_date    99457 non-null  datetime64[ns]\n",
      " 8   shopping_mall   99457 non-null  object        \n",
      "dtypes: datetime64[ns](1), float64(1), int64(2), object(5)\n",
      "memory usage: 7.6+ MB\n"
     ]
    }
   ],
   "source": [
    "data.info()"
   ]
  },
  {
   "cell_type": "code",
   "execution_count": 6,
   "metadata": {},
   "outputs": [
    {
     "data": {
      "text/plain": [
       "Female    0.598068\n",
       "Male      0.401932\n",
       "Name: gender, dtype: float64"
      ]
     },
     "execution_count": 6,
     "metadata": {},
     "output_type": "execute_result"
    }
   ],
   "source": [
    "data.gender.value_counts(normalize=True)"
   ]
  },
  {
   "cell_type": "code",
   "execution_count": 7,
   "metadata": {},
   "outputs": [
    {
     "data": {
      "text/plain": [
       "Text(0.5, 1.0, 'Category Popularity')"
      ]
     },
     "execution_count": 7,
     "metadata": {},
     "output_type": "execute_result"
    },
    {
     "data": {
      "image/png": "[encoded data removed]",
      "text/plain": [
       "<Figure size 1080x576 with 2 Axes>"
      ]
     },
     "metadata": {
      "needs_background": "light"
     },
     "output_type": "display_data"
    }
   ],
   "source": [
    "fig, (ax1,ax2) = plt.subplots(1,2,figsize= (15,8))\n",
    "ax1.hist('shopping_mall',data=data,rwidth=0.95)\n",
    "\n",
    "for tick in ax1.get_xticklabels():\n",
    "    tick.set_rotation(80)\n",
    "ax1.set_title('Shopping mall Popularity')\n",
    "ax2.hist('category', data=data,rwidth=0.95)\n",
    "for tick in ax2.get_xticklabels():\n",
    "    tick.set_rotation(80)\n",
    "ax2.set_title('Category Popularity')"
   ]
  },
  {
   "attachments": {},
   "cell_type": "markdown",
   "metadata": {},
   "source": [
    "According to the dataset used, Females go for shopping generally more than the males. Approximately 59.8% of the total buyers are females compared to 40.1% being males.\n",
    "Identifing the major shopping categories under analysis became a factor to consider in the analysis to see whether there were categories where the male dominated."
   ]
  },
  {
   "cell_type": "code",
   "execution_count": 8,
   "metadata": {},
   "outputs": [
    {
     "data": {
      "text/plain": [
       "Clothing           34487\n",
       "Cosmetics          15097\n",
       "Food & Beverage    14776\n",
       "Toys               10087\n",
       "Shoes              10034\n",
       "Souvenir            4999\n",
       "Technology          4996\n",
       "Books               4981\n",
       "Name: category, dtype: int64"
      ]
     },
     "execution_count": 8,
     "metadata": {},
     "output_type": "execute_result"
    }
   ],
   "source": [
    "data.category.value_counts()"
   ]
  },
  {
   "cell_type": "code",
   "execution_count": 9,
   "metadata": {},
   "outputs": [
    {
     "data": {
      "text/plain": [
       "Cash           0.446897\n",
       "Credit Card    0.351217\n",
       "Debit Card     0.201886\n",
       "Name: payment_method, dtype: float64"
      ]
     },
     "execution_count": 9,
     "metadata": {},
     "output_type": "execute_result"
    }
   ],
   "source": [
    "data.payment_method.value_counts(normalize=True)"
   ]
  },
  {
   "cell_type": "code",
   "execution_count": 10,
   "metadata": {},
   "outputs": [
    {
     "data": {
      "text/html": [
       "<div>\n",
       "<style scoped>\n",
       "    .dataframe tbody tr th:only-of-type {\n",
       "        vertical-align: middle;\n",
       "    }\n",
       "\n",
       "    .dataframe tbody tr th {\n",
       "        vertical-align: top;\n",
       "    }\n",
       "\n",
       "    .dataframe thead th {\n",
       "        text-align: right;\n",
       "    }\n",
       "</style>\n",
       "<table border=\"1\" class=\"dataframe\">\n",
       "  <thead>\n",
       "    <tr style=\"text-align: right;\">\n",
       "      <th></th>\n",
       "      <th>customer_id</th>\n",
       "      <th>gender</th>\n",
       "      <th>age</th>\n",
       "      <th>category</th>\n",
       "      <th>quantity</th>\n",
       "      <th>price</th>\n",
       "      <th>payment_method</th>\n",
       "      <th>invoice_date</th>\n",
       "      <th>shopping_mall</th>\n",
       "    </tr>\n",
       "    <tr>\n",
       "      <th>invoice_no</th>\n",
       "      <th></th>\n",
       "      <th></th>\n",
       "      <th></th>\n",
       "      <th></th>\n",
       "      <th></th>\n",
       "      <th></th>\n",
       "      <th></th>\n",
       "      <th></th>\n",
       "      <th></th>\n",
       "    </tr>\n",
       "  </thead>\n",
       "  <tbody>\n",
       "    <tr>\n",
       "      <th>I138884</th>\n",
       "      <td>C241288</td>\n",
       "      <td>Female</td>\n",
       "      <td>28</td>\n",
       "      <td>Clothing</td>\n",
       "      <td>5</td>\n",
       "      <td>1500.40</td>\n",
       "      <td>Credit Card</td>\n",
       "      <td>2022-08-05</td>\n",
       "      <td>Kanyon</td>\n",
       "    </tr>\n",
       "    <tr>\n",
       "      <th>I317333</th>\n",
       "      <td>C111565</td>\n",
       "      <td>Male</td>\n",
       "      <td>21</td>\n",
       "      <td>Shoes</td>\n",
       "      <td>3</td>\n",
       "      <td>1800.51</td>\n",
       "      <td>Debit Card</td>\n",
       "      <td>2021-12-12</td>\n",
       "      <td>Forum Istanbul</td>\n",
       "    </tr>\n",
       "    <tr>\n",
       "      <th>I127801</th>\n",
       "      <td>C266599</td>\n",
       "      <td>Male</td>\n",
       "      <td>20</td>\n",
       "      <td>Clothing</td>\n",
       "      <td>1</td>\n",
       "      <td>300.08</td>\n",
       "      <td>Cash</td>\n",
       "      <td>2021-11-09</td>\n",
       "      <td>Metrocity</td>\n",
       "    </tr>\n",
       "    <tr>\n",
       "      <th>I173702</th>\n",
       "      <td>C988172</td>\n",
       "      <td>Female</td>\n",
       "      <td>66</td>\n",
       "      <td>Shoes</td>\n",
       "      <td>5</td>\n",
       "      <td>3000.85</td>\n",
       "      <td>Credit Card</td>\n",
       "      <td>2021-05-16</td>\n",
       "      <td>Metropol AVM</td>\n",
       "    </tr>\n",
       "    <tr>\n",
       "      <th>I337046</th>\n",
       "      <td>C189076</td>\n",
       "      <td>Female</td>\n",
       "      <td>53</td>\n",
       "      <td>Books</td>\n",
       "      <td>4</td>\n",
       "      <td>60.60</td>\n",
       "      <td>Cash</td>\n",
       "      <td>2021-10-24</td>\n",
       "      <td>Kanyon</td>\n",
       "    </tr>\n",
       "  </tbody>\n",
       "</table>\n",
       "</div>"
      ],
      "text/plain": [
       "           customer_id  gender  age  category  quantity    price  \\\n",
       "invoice_no                                                         \n",
       "I138884        C241288  Female   28  Clothing         5  1500.40   \n",
       "I317333        C111565    Male   21     Shoes         3  1800.51   \n",
       "I127801        C266599    Male   20  Clothing         1   300.08   \n",
       "I173702        C988172  Female   66     Shoes         5  3000.85   \n",
       "I337046        C189076  Female   53     Books         4    60.60   \n",
       "\n",
       "           payment_method invoice_date   shopping_mall  \n",
       "invoice_no                                              \n",
       "I138884       Credit Card   2022-08-05          Kanyon  \n",
       "I317333        Debit Card   2021-12-12  Forum Istanbul  \n",
       "I127801              Cash   2021-11-09       Metrocity  \n",
       "I173702       Credit Card   2021-05-16    Metropol AVM  \n",
       "I337046              Cash   2021-10-24          Kanyon  "
      ]
     },
     "execution_count": 10,
     "metadata": {},
     "output_type": "execute_result"
    }
   ],
   "source": [
    "data.head()"
   ]
  },
  {
   "cell_type": "code",
   "execution_count": 48,
   "metadata": {},
   "outputs": [
    {
     "data": {
      "text/plain": [
       "(18, 69)"
      ]
     },
     "execution_count": 48,
     "metadata": {},
     "output_type": "execute_result"
    }
   ],
   "source": [
    "minimum = data.age.min()\n",
    "maximum = data.age.max()\n",
    "minimum, maximum"
   ]
  },
  {
   "cell_type": "code",
   "execution_count": 12,
   "metadata": {},
   "outputs": [
    {
     "data": {
      "text/html": [
       "<div>\n",
       "<style scoped>\n",
       "    .dataframe tbody tr th:only-of-type {\n",
       "        vertical-align: middle;\n",
       "    }\n",
       "\n",
       "    .dataframe tbody tr th {\n",
       "        vertical-align: top;\n",
       "    }\n",
       "\n",
       "    .dataframe thead th {\n",
       "        text-align: right;\n",
       "    }\n",
       "</style>\n",
       "<table border=\"1\" class=\"dataframe\">\n",
       "  <thead>\n",
       "    <tr style=\"text-align: right;\">\n",
       "      <th></th>\n",
       "      <th>customer_id</th>\n",
       "      <th>gender</th>\n",
       "      <th>age</th>\n",
       "      <th>category</th>\n",
       "      <th>quantity</th>\n",
       "      <th>price</th>\n",
       "      <th>payment_method</th>\n",
       "      <th>invoice_date</th>\n",
       "      <th>shopping_mall</th>\n",
       "      <th>age_grp</th>\n",
       "    </tr>\n",
       "    <tr>\n",
       "      <th>invoice_no</th>\n",
       "      <th></th>\n",
       "      <th></th>\n",
       "      <th></th>\n",
       "      <th></th>\n",
       "      <th></th>\n",
       "      <th></th>\n",
       "      <th></th>\n",
       "      <th></th>\n",
       "      <th></th>\n",
       "      <th></th>\n",
       "    </tr>\n",
       "  </thead>\n",
       "  <tbody>\n",
       "    <tr>\n",
       "      <th>I138884</th>\n",
       "      <td>C241288</td>\n",
       "      <td>Female</td>\n",
       "      <td>28</td>\n",
       "      <td>Clothing</td>\n",
       "      <td>5</td>\n",
       "      <td>1500.40</td>\n",
       "      <td>Credit Card</td>\n",
       "      <td>2022-08-05</td>\n",
       "      <td>Kanyon</td>\n",
       "      <td>18-30</td>\n",
       "    </tr>\n",
       "    <tr>\n",
       "      <th>I317333</th>\n",
       "      <td>C111565</td>\n",
       "      <td>Male</td>\n",
       "      <td>21</td>\n",
       "      <td>Shoes</td>\n",
       "      <td>3</td>\n",
       "      <td>1800.51</td>\n",
       "      <td>Debit Card</td>\n",
       "      <td>2021-12-12</td>\n",
       "      <td>Forum Istanbul</td>\n",
       "      <td>18-30</td>\n",
       "    </tr>\n",
       "    <tr>\n",
       "      <th>I127801</th>\n",
       "      <td>C266599</td>\n",
       "      <td>Male</td>\n",
       "      <td>20</td>\n",
       "      <td>Clothing</td>\n",
       "      <td>1</td>\n",
       "      <td>300.08</td>\n",
       "      <td>Cash</td>\n",
       "      <td>2021-11-09</td>\n",
       "      <td>Metrocity</td>\n",
       "      <td>18-30</td>\n",
       "    </tr>\n",
       "    <tr>\n",
       "      <th>I173702</th>\n",
       "      <td>C988172</td>\n",
       "      <td>Female</td>\n",
       "      <td>66</td>\n",
       "      <td>Shoes</td>\n",
       "      <td>5</td>\n",
       "      <td>3000.85</td>\n",
       "      <td>Credit Card</td>\n",
       "      <td>2021-05-16</td>\n",
       "      <td>Metropol AVM</td>\n",
       "      <td>55-70</td>\n",
       "    </tr>\n",
       "    <tr>\n",
       "      <th>I337046</th>\n",
       "      <td>C189076</td>\n",
       "      <td>Female</td>\n",
       "      <td>53</td>\n",
       "      <td>Books</td>\n",
       "      <td>4</td>\n",
       "      <td>60.60</td>\n",
       "      <td>Cash</td>\n",
       "      <td>2021-10-24</td>\n",
       "      <td>Kanyon</td>\n",
       "      <td>43-54</td>\n",
       "    </tr>\n",
       "  </tbody>\n",
       "</table>\n",
       "</div>"
      ],
      "text/plain": [
       "           customer_id  gender  age  category  quantity    price  \\\n",
       "invoice_no                                                         \n",
       "I138884        C241288  Female   28  Clothing         5  1500.40   \n",
       "I317333        C111565    Male   21     Shoes         3  1800.51   \n",
       "I127801        C266599    Male   20  Clothing         1   300.08   \n",
       "I173702        C988172  Female   66     Shoes         5  3000.85   \n",
       "I337046        C189076  Female   53     Books         4    60.60   \n",
       "\n",
       "           payment_method invoice_date   shopping_mall age_grp  \n",
       "invoice_no                                                      \n",
       "I138884       Credit Card   2022-08-05          Kanyon   18-30  \n",
       "I317333        Debit Card   2021-12-12  Forum Istanbul   18-30  \n",
       "I127801              Cash   2021-11-09       Metrocity   18-30  \n",
       "I173702       Credit Card   2021-05-16    Metropol AVM   55-70  \n",
       "I337046              Cash   2021-10-24          Kanyon   43-54  "
      ]
     },
     "execution_count": 12,
     "metadata": {},
     "output_type": "execute_result"
    }
   ],
   "source": [
    "data['age_grp']=data['age'].map(lambda x: '18-30' if(x >= 18 and x<=30) else '31-42' if (x>30 and x<=42)\n",
    "                                else '43-54' if (x>42 and x<=54) else '55-70' if (x>54 and x<=70) else 'over 70')\n",
    "data.head()"
   ]
  },
  {
   "attachments": {},
   "cell_type": "markdown",
   "metadata": {},
   "source": [
    "Generally the use of cash in making payments was most preferred. The use of debit cards was the least preffered. 44% of the customers to the selected malls opted for cash and 35% opted to pay with credit cards and only the remaining 20% payed using debit cards."
   ]
  },
  {
   "cell_type": "code",
   "execution_count": 46,
   "metadata": {},
   "outputs": [
    {
     "name": "stdout",
     "output_type": "stream",
     "text": [
      "Popularity of Female agegroups in shopping\n",
      "55-70    0.286171\n",
      "18-30    0.250681\n",
      "31-42    0.232860\n",
      "43-54    0.230288\n",
      "Name: age_grp, dtype: float64\n",
      "Popularity of male agegroups in shopping\n",
      "55-70    0.285378\n",
      "18-30    0.252983\n",
      "43-54    0.231520\n",
      "31-42    0.230119\n",
      "Name: age_grp, dtype: float64\n"
     ]
    }
   ],
   "source": [
    "man = data[data['gender']=='Male'].age_grp.value_counts(normalize=True)\n",
    "woman = data[data['gender']=='Female'].age_grp.value_counts(normalize=True)\n",
    "print('Popularity of Female agegroups in shopping')\n",
    "print(woman)\n",
    "print('Popularity of male agegroups in shopping')\n",
    "print(man)"
   ]
  },
  {
   "attachments": {},
   "cell_type": "markdown",
   "metadata": {},
   "source": [
    "Majority of the females and males that went for shopping at the desigated malls were in the age group of 55 years to 70 years and the least age group was between 31 years and 42 years for the males and between 43 years and 54 years for the females. The people in the age group 18 years to 30 years more males were identified to go for shopping in the designated malls unlike females."
   ]
  },
  {
   "attachments": {},
   "cell_type": "markdown",
   "metadata": {},
   "source": [
    "# Clothing Analysis"
   ]
  },
  {
   "attachments": {},
   "cell_type": "markdown",
   "metadata": {},
   "source": [
    "Clothing is the most common purchased item category from the malls. Kanyon and Instabul mall are the most common malls Where trades were performed."
   ]
  },
  {
   "cell_type": "code",
   "execution_count": 49,
   "metadata": {},
   "outputs": [],
   "source": [
    "Clothing_dataset = data[data['category']=='Clothing'].sort_values(by='shopping_mall')"
   ]
  },
  {
   "cell_type": "code",
   "execution_count": 50,
   "metadata": {},
   "outputs": [
    {
     "data": {
      "text/html": [
       "<div>\n",
       "<style scoped>\n",
       "    .dataframe tbody tr th:only-of-type {\n",
       "        vertical-align: middle;\n",
       "    }\n",
       "\n",
       "    .dataframe tbody tr th {\n",
       "        vertical-align: top;\n",
       "    }\n",
       "\n",
       "    .dataframe thead th {\n",
       "        text-align: right;\n",
       "    }\n",
       "</style>\n",
       "<table border=\"1\" class=\"dataframe\">\n",
       "  <thead>\n",
       "    <tr style=\"text-align: right;\">\n",
       "      <th></th>\n",
       "      <th>customer_id</th>\n",
       "      <th>gender</th>\n",
       "      <th>age</th>\n",
       "      <th>category</th>\n",
       "      <th>quantity</th>\n",
       "      <th>price</th>\n",
       "      <th>payment_method</th>\n",
       "      <th>invoice_date</th>\n",
       "      <th>shopping_mall</th>\n",
       "      <th>age_grp</th>\n",
       "    </tr>\n",
       "    <tr>\n",
       "      <th>invoice_no</th>\n",
       "      <th></th>\n",
       "      <th></th>\n",
       "      <th></th>\n",
       "      <th></th>\n",
       "      <th></th>\n",
       "      <th></th>\n",
       "      <th></th>\n",
       "      <th></th>\n",
       "      <th></th>\n",
       "      <th></th>\n",
       "    </tr>\n",
       "  </thead>\n",
       "  <tbody>\n",
       "    <tr>\n",
       "      <th>I229412</th>\n",
       "      <td>C491562</td>\n",
       "      <td>Male</td>\n",
       "      <td>56</td>\n",
       "      <td>Clothing</td>\n",
       "      <td>2</td>\n",
       "      <td>600.16</td>\n",
       "      <td>Credit Card</td>\n",
       "      <td>2021-06-25</td>\n",
       "      <td>Cevahir AVM</td>\n",
       "      <td>55-70</td>\n",
       "    </tr>\n",
       "    <tr>\n",
       "      <th>I701524</th>\n",
       "      <td>C109312</td>\n",
       "      <td>Female</td>\n",
       "      <td>31</td>\n",
       "      <td>Clothing</td>\n",
       "      <td>3</td>\n",
       "      <td>900.24</td>\n",
       "      <td>Credit Card</td>\n",
       "      <td>2021-12-01</td>\n",
       "      <td>Cevahir AVM</td>\n",
       "      <td>31-42</td>\n",
       "    </tr>\n",
       "    <tr>\n",
       "      <th>I293043</th>\n",
       "      <td>C316525</td>\n",
       "      <td>Female</td>\n",
       "      <td>62</td>\n",
       "      <td>Clothing</td>\n",
       "      <td>3</td>\n",
       "      <td>900.24</td>\n",
       "      <td>Credit Card</td>\n",
       "      <td>2022-02-01</td>\n",
       "      <td>Cevahir AVM</td>\n",
       "      <td>55-70</td>\n",
       "    </tr>\n",
       "    <tr>\n",
       "      <th>I189710</th>\n",
       "      <td>C106099</td>\n",
       "      <td>Female</td>\n",
       "      <td>20</td>\n",
       "      <td>Clothing</td>\n",
       "      <td>4</td>\n",
       "      <td>1200.32</td>\n",
       "      <td>Debit Card</td>\n",
       "      <td>2022-10-21</td>\n",
       "      <td>Cevahir AVM</td>\n",
       "      <td>18-30</td>\n",
       "    </tr>\n",
       "    <tr>\n",
       "      <th>I189690</th>\n",
       "      <td>C115146</td>\n",
       "      <td>Male</td>\n",
       "      <td>18</td>\n",
       "      <td>Clothing</td>\n",
       "      <td>4</td>\n",
       "      <td>1200.32</td>\n",
       "      <td>Debit Card</td>\n",
       "      <td>2022-04-14</td>\n",
       "      <td>Cevahir AVM</td>\n",
       "      <td>18-30</td>\n",
       "    </tr>\n",
       "  </tbody>\n",
       "</table>\n",
       "</div>"
      ],
      "text/plain": [
       "           customer_id  gender  age  category  quantity    price  \\\n",
       "invoice_no                                                         \n",
       "I229412        C491562    Male   56  Clothing         2   600.16   \n",
       "I701524        C109312  Female   31  Clothing         3   900.24   \n",
       "I293043        C316525  Female   62  Clothing         3   900.24   \n",
       "I189710        C106099  Female   20  Clothing         4  1200.32   \n",
       "I189690        C115146    Male   18  Clothing         4  1200.32   \n",
       "\n",
       "           payment_method invoice_date shopping_mall age_grp  \n",
       "invoice_no                                                    \n",
       "I229412       Credit Card   2021-06-25   Cevahir AVM   55-70  \n",
       "I701524       Credit Card   2021-12-01   Cevahir AVM   31-42  \n",
       "I293043       Credit Card   2022-02-01   Cevahir AVM   55-70  \n",
       "I189710        Debit Card   2022-10-21   Cevahir AVM   18-30  \n",
       "I189690        Debit Card   2022-04-14   Cevahir AVM   18-30  "
      ]
     },
     "execution_count": 50,
     "metadata": {},
     "output_type": "execute_result"
    }
   ],
   "source": [
    "Clothing_dataset.head()"
   ]
  },
  {
   "cell_type": "code",
   "execution_count": 51,
   "metadata": {},
   "outputs": [
    {
     "data": {
      "text/html": [
       "<div>\n",
       "<style scoped>\n",
       "    .dataframe tbody tr th:only-of-type {\n",
       "        vertical-align: middle;\n",
       "    }\n",
       "\n",
       "    .dataframe tbody tr th {\n",
       "        vertical-align: top;\n",
       "    }\n",
       "\n",
       "    .dataframe thead th {\n",
       "        text-align: right;\n",
       "    }\n",
       "</style>\n",
       "<table border=\"1\" class=\"dataframe\">\n",
       "  <thead>\n",
       "    <tr style=\"text-align: right;\">\n",
       "      <th></th>\n",
       "      <th>age</th>\n",
       "      <th>quantity</th>\n",
       "      <th>price</th>\n",
       "    </tr>\n",
       "  </thead>\n",
       "  <tbody>\n",
       "    <tr>\n",
       "      <th>count</th>\n",
       "      <td>34487.000000</td>\n",
       "      <td>34487.000000</td>\n",
       "      <td>34487.000000</td>\n",
       "    </tr>\n",
       "    <tr>\n",
       "      <th>mean</th>\n",
       "      <td>43.409227</td>\n",
       "      <td>3.002813</td>\n",
       "      <td>901.084021</td>\n",
       "    </tr>\n",
       "    <tr>\n",
       "      <th>std</th>\n",
       "      <td>14.998012</td>\n",
       "      <td>1.413708</td>\n",
       "      <td>424.225594</td>\n",
       "    </tr>\n",
       "    <tr>\n",
       "      <th>min</th>\n",
       "      <td>18.000000</td>\n",
       "      <td>1.000000</td>\n",
       "      <td>300.080000</td>\n",
       "    </tr>\n",
       "    <tr>\n",
       "      <th>25%</th>\n",
       "      <td>30.000000</td>\n",
       "      <td>2.000000</td>\n",
       "      <td>600.160000</td>\n",
       "    </tr>\n",
       "    <tr>\n",
       "      <th>50%</th>\n",
       "      <td>43.000000</td>\n",
       "      <td>3.000000</td>\n",
       "      <td>900.240000</td>\n",
       "    </tr>\n",
       "    <tr>\n",
       "      <th>75%</th>\n",
       "      <td>56.000000</td>\n",
       "      <td>4.000000</td>\n",
       "      <td>1200.320000</td>\n",
       "    </tr>\n",
       "    <tr>\n",
       "      <th>max</th>\n",
       "      <td>69.000000</td>\n",
       "      <td>5.000000</td>\n",
       "      <td>1500.400000</td>\n",
       "    </tr>\n",
       "  </tbody>\n",
       "</table>\n",
       "</div>"
      ],
      "text/plain": [
       "                age      quantity         price\n",
       "count  34487.000000  34487.000000  34487.000000\n",
       "mean      43.409227      3.002813    901.084021\n",
       "std       14.998012      1.413708    424.225594\n",
       "min       18.000000      1.000000    300.080000\n",
       "25%       30.000000      2.000000    600.160000\n",
       "50%       43.000000      3.000000    900.240000\n",
       "75%       56.000000      4.000000   1200.320000\n",
       "max       69.000000      5.000000   1500.400000"
      ]
     },
     "execution_count": 51,
     "metadata": {},
     "output_type": "execute_result"
    }
   ],
   "source": [
    "Clothing_dataset.describe()"
   ]
  },
  {
   "cell_type": "code",
   "execution_count": 18,
   "metadata": {},
   "outputs": [
    {
     "data": {
      "text/plain": [
       "Female    0.598834\n",
       "Male      0.401166\n",
       "Name: gender, dtype: float64"
      ]
     },
     "execution_count": 18,
     "metadata": {},
     "output_type": "execute_result"
    }
   ],
   "source": [
    "Clothing_dataset.gender.value_counts(normalize=True)"
   ]
  },
  {
   "cell_type": "code",
   "execution_count": 74,
   "metadata": {},
   "outputs": [
    {
     "data": {
      "text/plain": [
       "Text(0.5, 1.0, 'Popularity of the age groups in the clothing dataset')"
      ]
     },
     "execution_count": 74,
     "metadata": {},
     "output_type": "execute_result"
    },
    {
     "data": {
      "image/png": "[encoded data removed]",
      "text/plain": [
       "<Figure size 720x576 with 1 Axes>"
      ]
     },
     "metadata": {
      "needs_background": "light"
     },
     "output_type": "display_data"
    }
   ],
   "source": [
    "plt.subplots(figsize=(10,8))\n",
    "sns.histplot(x='age_grp',data=Clothing_dataset,hue='gender')\n",
    "plt.title('Popularity of the age groups in the clothing dataset')"
   ]
  },
  {
   "cell_type": "code",
   "execution_count": 75,
   "metadata": {},
   "outputs": [
    {
     "data": {
      "text/plain": [
       "Female    0.599695\n",
       "Male      0.400305\n",
       "Name: gender, dtype: float64"
      ]
     },
     "execution_count": 75,
     "metadata": {},
     "output_type": "execute_result"
    }
   ],
   "source": [
    "Clothing_dataset[Clothing_dataset['age_grp']=='55-70'].gender.value_counts(normalize=True)"
   ]
  },
  {
   "attachments": {},
   "cell_type": "markdown",
   "metadata": {},
   "source": [
    "From the bar plot above the females outnumbered the males in shopping for clothes in across all the age groups.The age group of 55-70 had more men shopping for clothes more than the other age groups. The same age group has the highest number of females also shopping for clothings."
   ]
  },
  {
   "cell_type": "code",
   "execution_count": 76,
   "metadata": {},
   "outputs": [
    {
     "data": {
      "text/plain": [
       "Text(0.5, 1.0, 'Popularity of the age group\"s payment methods in the clothing dataset')"
      ]
     },
     "execution_count": 76,
     "metadata": {},
     "output_type": "execute_result"
    },
    {
     "data": {
      "image/png": "[encoded data removed]",
      "text/plain": [
       "<Figure size 720x576 with 1 Axes>"
      ]
     },
     "metadata": {
      "needs_background": "light"
     },
     "output_type": "display_data"
    }
   ],
   "source": [
    "plt.subplots(figsize=(10,8))\n",
    "sns.histplot(x='age_grp',data=Clothing_dataset,hue='payment_method')\n",
    "plt.title('Popularity of the age group\"s payment methods in the clothing dataset')"
   ]
  },
  {
   "attachments": {},
   "cell_type": "markdown",
   "metadata": {},
   "source": [
    "Across all the 4 age groups Cash as a payment method was more preferred compared to credit and debit card. Credit cards were the second most preferred and the least preferred was a debit cards. The largest population using credit cards was in the age  group of 55 - 70 years."
   ]
  },
  {
   "cell_type": "code",
   "execution_count": 19,
   "metadata": {},
   "outputs": [
    {
     "data": {
      "text/html": [
       "<div>\n",
       "<style scoped>\n",
       "    .dataframe tbody tr th:only-of-type {\n",
       "        vertical-align: middle;\n",
       "    }\n",
       "\n",
       "    .dataframe tbody tr th {\n",
       "        vertical-align: top;\n",
       "    }\n",
       "\n",
       "    .dataframe thead th {\n",
       "        text-align: right;\n",
       "    }\n",
       "</style>\n",
       "<table border=\"1\" class=\"dataframe\">\n",
       "  <thead>\n",
       "    <tr style=\"text-align: right;\">\n",
       "      <th></th>\n",
       "      <th>customer_id</th>\n",
       "      <th>gender</th>\n",
       "      <th>age</th>\n",
       "      <th>category</th>\n",
       "      <th>quantity</th>\n",
       "      <th>price</th>\n",
       "      <th>payment_method</th>\n",
       "      <th>invoice_date</th>\n",
       "      <th>shopping_mall</th>\n",
       "      <th>age_grp</th>\n",
       "    </tr>\n",
       "    <tr>\n",
       "      <th>invoice_no</th>\n",
       "      <th></th>\n",
       "      <th></th>\n",
       "      <th></th>\n",
       "      <th></th>\n",
       "      <th></th>\n",
       "      <th></th>\n",
       "      <th></th>\n",
       "      <th></th>\n",
       "      <th></th>\n",
       "      <th></th>\n",
       "    </tr>\n",
       "  </thead>\n",
       "  <tbody>\n",
       "    <tr>\n",
       "      <th>I701524</th>\n",
       "      <td>C109312</td>\n",
       "      <td>Female</td>\n",
       "      <td>31</td>\n",
       "      <td>Clothing</td>\n",
       "      <td>3</td>\n",
       "      <td>900.24</td>\n",
       "      <td>Credit Card</td>\n",
       "      <td>2021-12-01</td>\n",
       "      <td>Cevahir AVM</td>\n",
       "      <td>31-42</td>\n",
       "    </tr>\n",
       "    <tr>\n",
       "      <th>I293043</th>\n",
       "      <td>C316525</td>\n",
       "      <td>Female</td>\n",
       "      <td>62</td>\n",
       "      <td>Clothing</td>\n",
       "      <td>3</td>\n",
       "      <td>900.24</td>\n",
       "      <td>Credit Card</td>\n",
       "      <td>2022-02-01</td>\n",
       "      <td>Cevahir AVM</td>\n",
       "      <td>55-70</td>\n",
       "    </tr>\n",
       "    <tr>\n",
       "      <th>I189710</th>\n",
       "      <td>C106099</td>\n",
       "      <td>Female</td>\n",
       "      <td>20</td>\n",
       "      <td>Clothing</td>\n",
       "      <td>4</td>\n",
       "      <td>1200.32</td>\n",
       "      <td>Debit Card</td>\n",
       "      <td>2022-10-21</td>\n",
       "      <td>Cevahir AVM</td>\n",
       "      <td>18-30</td>\n",
       "    </tr>\n",
       "    <tr>\n",
       "      <th>I317680</th>\n",
       "      <td>C197397</td>\n",
       "      <td>Female</td>\n",
       "      <td>39</td>\n",
       "      <td>Clothing</td>\n",
       "      <td>4</td>\n",
       "      <td>1200.32</td>\n",
       "      <td>Cash</td>\n",
       "      <td>2022-02-14</td>\n",
       "      <td>Cevahir AVM</td>\n",
       "      <td>31-42</td>\n",
       "    </tr>\n",
       "    <tr>\n",
       "      <th>I193383</th>\n",
       "      <td>C276892</td>\n",
       "      <td>Female</td>\n",
       "      <td>48</td>\n",
       "      <td>Clothing</td>\n",
       "      <td>4</td>\n",
       "      <td>1200.32</td>\n",
       "      <td>Debit Card</td>\n",
       "      <td>2023-02-23</td>\n",
       "      <td>Cevahir AVM</td>\n",
       "      <td>43-54</td>\n",
       "    </tr>\n",
       "    <tr>\n",
       "      <th>...</th>\n",
       "      <td>...</td>\n",
       "      <td>...</td>\n",
       "      <td>...</td>\n",
       "      <td>...</td>\n",
       "      <td>...</td>\n",
       "      <td>...</td>\n",
       "      <td>...</td>\n",
       "      <td>...</td>\n",
       "      <td>...</td>\n",
       "      <td>...</td>\n",
       "    </tr>\n",
       "    <tr>\n",
       "      <th>I266538</th>\n",
       "      <td>C504358</td>\n",
       "      <td>Female</td>\n",
       "      <td>38</td>\n",
       "      <td>Clothing</td>\n",
       "      <td>2</td>\n",
       "      <td>600.16</td>\n",
       "      <td>Cash</td>\n",
       "      <td>2021-08-23</td>\n",
       "      <td>Zorlu Center</td>\n",
       "      <td>31-42</td>\n",
       "    </tr>\n",
       "    <tr>\n",
       "      <th>I137648</th>\n",
       "      <td>C280968</td>\n",
       "      <td>Female</td>\n",
       "      <td>42</td>\n",
       "      <td>Clothing</td>\n",
       "      <td>5</td>\n",
       "      <td>1500.40</td>\n",
       "      <td>Cash</td>\n",
       "      <td>2022-12-19</td>\n",
       "      <td>Zorlu Center</td>\n",
       "      <td>31-42</td>\n",
       "    </tr>\n",
       "    <tr>\n",
       "      <th>I230459</th>\n",
       "      <td>C347467</td>\n",
       "      <td>Female</td>\n",
       "      <td>33</td>\n",
       "      <td>Clothing</td>\n",
       "      <td>1</td>\n",
       "      <td>300.08</td>\n",
       "      <td>Debit Card</td>\n",
       "      <td>2022-11-01</td>\n",
       "      <td>Zorlu Center</td>\n",
       "      <td>31-42</td>\n",
       "    </tr>\n",
       "    <tr>\n",
       "      <th>I886969</th>\n",
       "      <td>C336002</td>\n",
       "      <td>Female</td>\n",
       "      <td>50</td>\n",
       "      <td>Clothing</td>\n",
       "      <td>4</td>\n",
       "      <td>1200.32</td>\n",
       "      <td>Debit Card</td>\n",
       "      <td>2021-12-30</td>\n",
       "      <td>Zorlu Center</td>\n",
       "      <td>43-54</td>\n",
       "    </tr>\n",
       "    <tr>\n",
       "      <th>I102377</th>\n",
       "      <td>C124677</td>\n",
       "      <td>Female</td>\n",
       "      <td>35</td>\n",
       "      <td>Clothing</td>\n",
       "      <td>3</td>\n",
       "      <td>900.24</td>\n",
       "      <td>Credit Card</td>\n",
       "      <td>2022-09-07</td>\n",
       "      <td>Zorlu Center</td>\n",
       "      <td>31-42</td>\n",
       "    </tr>\n",
       "  </tbody>\n",
       "</table>\n",
       "<p>20652 rows × 10 columns</p>\n",
       "</div>"
      ],
      "text/plain": [
       "           customer_id  gender  age  category  quantity    price  \\\n",
       "invoice_no                                                         \n",
       "I701524        C109312  Female   31  Clothing         3   900.24   \n",
       "I293043        C316525  Female   62  Clothing         3   900.24   \n",
       "I189710        C106099  Female   20  Clothing         4  1200.32   \n",
       "I317680        C197397  Female   39  Clothing         4  1200.32   \n",
       "I193383        C276892  Female   48  Clothing         4  1200.32   \n",
       "...                ...     ...  ...       ...       ...      ...   \n",
       "I266538        C504358  Female   38  Clothing         2   600.16   \n",
       "I137648        C280968  Female   42  Clothing         5  1500.40   \n",
       "I230459        C347467  Female   33  Clothing         1   300.08   \n",
       "I886969        C336002  Female   50  Clothing         4  1200.32   \n",
       "I102377        C124677  Female   35  Clothing         3   900.24   \n",
       "\n",
       "           payment_method invoice_date shopping_mall age_grp  \n",
       "invoice_no                                                    \n",
       "I701524       Credit Card   2021-12-01   Cevahir AVM   31-42  \n",
       "I293043       Credit Card   2022-02-01   Cevahir AVM   55-70  \n",
       "I189710        Debit Card   2022-10-21   Cevahir AVM   18-30  \n",
       "I317680              Cash   2022-02-14   Cevahir AVM   31-42  \n",
       "I193383        Debit Card   2023-02-23   Cevahir AVM   43-54  \n",
       "...                   ...          ...           ...     ...  \n",
       "I266538              Cash   2021-08-23  Zorlu Center   31-42  \n",
       "I137648              Cash   2022-12-19  Zorlu Center   31-42  \n",
       "I230459        Debit Card   2022-11-01  Zorlu Center   31-42  \n",
       "I886969        Debit Card   2021-12-30  Zorlu Center   43-54  \n",
       "I102377       Credit Card   2022-09-07  Zorlu Center   31-42  \n",
       "\n",
       "[20652 rows x 10 columns]"
      ]
     },
     "execution_count": 19,
     "metadata": {},
     "output_type": "execute_result"
    }
   ],
   "source": [
    "Female_clothing = Clothing_dataset[Clothing_dataset['gender']=='Female']\n",
    "Female_clothing"
   ]
  },
  {
   "cell_type": "code",
   "execution_count": 20,
   "metadata": {},
   "outputs": [
    {
     "data": {
      "text/plain": [
       "Cash           0.449157\n",
       "Credit Card    0.347618\n",
       "Debit Card     0.203225\n",
       "Name: payment_method, dtype: float64"
      ]
     },
     "execution_count": 20,
     "metadata": {},
     "output_type": "execute_result"
    }
   ],
   "source": [
    "Female_clothing.payment_method.value_counts(normalize=True)"
   ]
  },
  {
   "cell_type": "code",
   "execution_count": 82,
   "metadata": {},
   "outputs": [
    {
     "data": {
      "text/plain": [
       "Text(0.5, 1.0, 'Popularity of the age group\"s payment methods in the clothing dataset for Females')"
      ]
     },
     "execution_count": 82,
     "metadata": {},
     "output_type": "execute_result"
    },
    {
     "data": {
      "image/png": "[encoded data removed]",
      "text/plain": [
       "<Figure size 720x576 with 1 Axes>"
      ]
     },
     "metadata": {
      "needs_background": "light"
     },
     "output_type": "display_data"
    }
   ],
   "source": [
    "plt.subplots(figsize=(10,8))\n",
    "sns.histplot(x='age_grp',data=Female_clothing,hue='payment_method')\n",
    "plt.title('Popularity of the age group\"s payment methods in the clothing dataset for Females')"
   ]
  },
  {
   "attachments": {},
   "cell_type": "markdown",
   "metadata": {},
   "source": [
    "Cash was the most preferred among the females followed closely by the the credit cards. The age group with the most entries in the number of payments among  the females was the age group 55-70 years."
   ]
  },
  {
   "cell_type": "code",
   "execution_count": 21,
   "metadata": {},
   "outputs": [
    {
     "data": {
      "text/plain": [
       "0"
      ]
     },
     "execution_count": 21,
     "metadata": {},
     "output_type": "execute_result"
    }
   ],
   "source": [
    "Female_clothing.customer_id.duplicated().sum()"
   ]
  },
  {
   "attachments": {},
   "cell_type": "markdown",
   "metadata": {},
   "source": [
    "Females dominated the clothing section in average considering all the shopping malls. With most of the females making their payments in cash. The use of debit cards was the least preffered option in the market for those doing payments for clothing."
   ]
  },
  {
   "cell_type": "code",
   "execution_count": 22,
   "metadata": {},
   "outputs": [
    {
     "data": {
      "text/plain": [
       "Kanyon               0.201579\n",
       "Mall of Istanbul     0.199593\n",
       "Metrocity            0.151704\n",
       "Metropol AVM         0.102847\n",
       "Istinye Park         0.099022\n",
       "Forum Istanbul       0.051569\n",
       "Zorlu Center         0.049632\n",
       "Cevahir AVM          0.049438\n",
       "Viaport Outlet       0.048567\n",
       "Emaar Square Mall    0.046049\n",
       "Name: shopping_mall, dtype: float64"
      ]
     },
     "execution_count": 22,
     "metadata": {},
     "output_type": "execute_result"
    }
   ],
   "source": [
    "Female_clothing.shopping_mall.value_counts(normalize=True)"
   ]
  },
  {
   "cell_type": "code",
   "execution_count": 80,
   "metadata": {},
   "outputs": [
    {
     "data": {
      "text/plain": [
       "Text(0.5, 1.0, 'Popularity of shopping malls among females for clothes')"
      ]
     },
     "execution_count": 80,
     "metadata": {},
     "output_type": "execute_result"
    },
    {
     "data": {
      "image/png": "[encoded data removed]",
      "text/plain": [
       "<Figure size 720x576 with 1 Axes>"
      ]
     },
     "metadata": {
      "needs_background": "light"
     },
     "output_type": "display_data"
    }
   ],
   "source": [
    "plt.subplots(figsize=(10,8))\n",
    "sns.histplot(x='shopping_mall', data=Female_clothing)\n",
    "plt.xticks(rotation=60)\n",
    "plt.title('Popularity of shopping malls among females for clothes')"
   ]
  },
  {
   "attachments": {},
   "cell_type": "markdown",
   "metadata": {},
   "source": [
    "The top 3 preferred malls by the females were Kanyon, Mall of Instabul and Metrocity in order from the most to the least."
   ]
  },
  {
   "cell_type": "code",
   "execution_count": 23,
   "metadata": {},
   "outputs": [
    {
     "data": {
      "text/plain": [
       "count    20652.000000\n",
       "mean       901.446016\n",
       "std        423.228277\n",
       "min        300.080000\n",
       "25%        600.160000\n",
       "50%        900.240000\n",
       "75%       1200.320000\n",
       "max       1500.400000\n",
       "Name: price, dtype: float64"
      ]
     },
     "execution_count": 23,
     "metadata": {},
     "output_type": "execute_result"
    }
   ],
   "source": [
    "Female_clothing.price.describe()"
   ]
  },
  {
   "attachments": {},
   "cell_type": "markdown",
   "metadata": {},
   "source": [
    "The range of prices for the female clothing was between 300 and 1500 for the females."
   ]
  },
  {
   "cell_type": "code",
   "execution_count": 24,
   "metadata": {},
   "outputs": [
    {
     "data": {
      "text/html": [
       "<div>\n",
       "<style scoped>\n",
       "    .dataframe tbody tr th:only-of-type {\n",
       "        vertical-align: middle;\n",
       "    }\n",
       "\n",
       "    .dataframe tbody tr th {\n",
       "        vertical-align: top;\n",
       "    }\n",
       "\n",
       "    .dataframe thead th {\n",
       "        text-align: right;\n",
       "    }\n",
       "</style>\n",
       "<table border=\"1\" class=\"dataframe\">\n",
       "  <thead>\n",
       "    <tr style=\"text-align: right;\">\n",
       "      <th></th>\n",
       "      <th>customer_id</th>\n",
       "      <th>gender</th>\n",
       "      <th>age</th>\n",
       "      <th>category</th>\n",
       "      <th>quantity</th>\n",
       "      <th>price</th>\n",
       "      <th>payment_method</th>\n",
       "      <th>invoice_date</th>\n",
       "      <th>shopping_mall</th>\n",
       "      <th>age_grp</th>\n",
       "    </tr>\n",
       "    <tr>\n",
       "      <th>invoice_no</th>\n",
       "      <th></th>\n",
       "      <th></th>\n",
       "      <th></th>\n",
       "      <th></th>\n",
       "      <th></th>\n",
       "      <th></th>\n",
       "      <th></th>\n",
       "      <th></th>\n",
       "      <th></th>\n",
       "      <th></th>\n",
       "    </tr>\n",
       "  </thead>\n",
       "  <tbody>\n",
       "    <tr>\n",
       "      <th>I229412</th>\n",
       "      <td>C491562</td>\n",
       "      <td>Male</td>\n",
       "      <td>56</td>\n",
       "      <td>Clothing</td>\n",
       "      <td>2</td>\n",
       "      <td>600.16</td>\n",
       "      <td>Credit Card</td>\n",
       "      <td>2021-06-25</td>\n",
       "      <td>Cevahir AVM</td>\n",
       "      <td>55-70</td>\n",
       "    </tr>\n",
       "    <tr>\n",
       "      <th>I189690</th>\n",
       "      <td>C115146</td>\n",
       "      <td>Male</td>\n",
       "      <td>18</td>\n",
       "      <td>Clothing</td>\n",
       "      <td>4</td>\n",
       "      <td>1200.32</td>\n",
       "      <td>Debit Card</td>\n",
       "      <td>2022-04-14</td>\n",
       "      <td>Cevahir AVM</td>\n",
       "      <td>18-30</td>\n",
       "    </tr>\n",
       "    <tr>\n",
       "      <th>I338370</th>\n",
       "      <td>C806420</td>\n",
       "      <td>Male</td>\n",
       "      <td>57</td>\n",
       "      <td>Clothing</td>\n",
       "      <td>5</td>\n",
       "      <td>1500.40</td>\n",
       "      <td>Cash</td>\n",
       "      <td>2022-08-21</td>\n",
       "      <td>Cevahir AVM</td>\n",
       "      <td>55-70</td>\n",
       "    </tr>\n",
       "    <tr>\n",
       "      <th>I660302</th>\n",
       "      <td>C290341</td>\n",
       "      <td>Male</td>\n",
       "      <td>32</td>\n",
       "      <td>Clothing</td>\n",
       "      <td>3</td>\n",
       "      <td>900.24</td>\n",
       "      <td>Cash</td>\n",
       "      <td>2022-03-08</td>\n",
       "      <td>Cevahir AVM</td>\n",
       "      <td>31-42</td>\n",
       "    </tr>\n",
       "    <tr>\n",
       "      <th>I765914</th>\n",
       "      <td>C250256</td>\n",
       "      <td>Male</td>\n",
       "      <td>65</td>\n",
       "      <td>Clothing</td>\n",
       "      <td>1</td>\n",
       "      <td>300.08</td>\n",
       "      <td>Credit Card</td>\n",
       "      <td>2021-09-03</td>\n",
       "      <td>Cevahir AVM</td>\n",
       "      <td>55-70</td>\n",
       "    </tr>\n",
       "  </tbody>\n",
       "</table>\n",
       "</div>"
      ],
      "text/plain": [
       "           customer_id gender  age  category  quantity    price  \\\n",
       "invoice_no                                                        \n",
       "I229412        C491562   Male   56  Clothing         2   600.16   \n",
       "I189690        C115146   Male   18  Clothing         4  1200.32   \n",
       "I338370        C806420   Male   57  Clothing         5  1500.40   \n",
       "I660302        C290341   Male   32  Clothing         3   900.24   \n",
       "I765914        C250256   Male   65  Clothing         1   300.08   \n",
       "\n",
       "           payment_method invoice_date shopping_mall age_grp  \n",
       "invoice_no                                                    \n",
       "I229412       Credit Card   2021-06-25   Cevahir AVM   55-70  \n",
       "I189690        Debit Card   2022-04-14   Cevahir AVM   18-30  \n",
       "I338370              Cash   2022-08-21   Cevahir AVM   55-70  \n",
       "I660302              Cash   2022-03-08   Cevahir AVM   31-42  \n",
       "I765914       Credit Card   2021-09-03   Cevahir AVM   55-70  "
      ]
     },
     "execution_count": 24,
     "metadata": {},
     "output_type": "execute_result"
    }
   ],
   "source": [
    "male_clothing = Clothing_dataset[Clothing_dataset.gender=='Male']\n",
    "male_clothing.head()"
   ]
  },
  {
   "cell_type": "code",
   "execution_count": 25,
   "metadata": {},
   "outputs": [
    {
     "data": {
      "text/plain": [
       "Cash           0.446693\n",
       "Credit Card    0.350271\n",
       "Debit Card     0.203036\n",
       "Name: payment_method, dtype: float64"
      ]
     },
     "execution_count": 25,
     "metadata": {},
     "output_type": "execute_result"
    }
   ],
   "source": [
    "male_clothing.payment_method.value_counts(normalize=True)"
   ]
  },
  {
   "cell_type": "code",
   "execution_count": 83,
   "metadata": {},
   "outputs": [
    {
     "data": {
      "text/plain": [
       "Text(0.5, 1.0, 'Popularity of the age group\"s payment methods in the clothing dataset for males')"
      ]
     },
     "execution_count": 83,
     "metadata": {},
     "output_type": "execute_result"
    },
    {
     "data": {
      "image/png": "[encoded data removed]",
      "text/plain": [
       "<Figure size 720x576 with 1 Axes>"
      ]
     },
     "metadata": {
      "needs_background": "light"
     },
     "output_type": "display_data"
    }
   ],
   "source": [
    "plt.subplots(figsize=(10,8))\n",
    "sns.histplot(x='age_grp',data=male_clothing,hue='payment_method')\n",
    "plt.title('Popularity of the age group\"s payment methods in the clothing dataset for males')"
   ]
  },
  {
   "attachments": {},
   "cell_type": "markdown",
   "metadata": {},
   "source": [
    "For the males, The preference for the payment methods was in the same order as the females."
   ]
  },
  {
   "cell_type": "code",
   "execution_count": 26,
   "metadata": {},
   "outputs": [
    {
     "data": {
      "text/plain": [
       "0"
      ]
     },
     "execution_count": 26,
     "metadata": {},
     "output_type": "execute_result"
    }
   ],
   "source": [
    "male_clothing.customer_id.duplicated().sum()"
   ]
  },
  {
   "cell_type": "code",
   "execution_count": 27,
   "metadata": {},
   "outputs": [
    {
     "data": {
      "text/plain": [
       "Mall of Istanbul     0.202458\n",
       "Kanyon               0.193495\n",
       "Metrocity            0.154319\n",
       "Metropol AVM         0.101265\n",
       "Istinye Park         0.094543\n",
       "Zorlu Center         0.053198\n",
       "Cevahir AVM          0.051175\n",
       "Viaport Outlet       0.050958\n",
       "Emaar Square Mall    0.050596\n",
       "Forum Istanbul       0.047994\n",
       "Name: shopping_mall, dtype: float64"
      ]
     },
     "execution_count": 27,
     "metadata": {},
     "output_type": "execute_result"
    }
   ],
   "source": [
    "male_clothing.shopping_mall.value_counts(normalize=True)"
   ]
  },
  {
   "cell_type": "code",
   "execution_count": 81,
   "metadata": {},
   "outputs": [
    {
     "data": {
      "text/plain": [
       "Text(0.5, 1.0, 'Popularity of shopping malls among males for clothes')"
      ]
     },
     "execution_count": 81,
     "metadata": {},
     "output_type": "execute_result"
    },
    {
     "data": {
      "image/png": "[encoded data removed]",
      "text/plain": [
       "<Figure size 720x576 with 1 Axes>"
      ]
     },
     "metadata": {
      "needs_background": "light"
     },
     "output_type": "display_data"
    }
   ],
   "source": [
    "plt.subplots(figsize=(10,8))\n",
    "sns.histplot(x='shopping_mall', data=male_clothing)\n",
    "plt.xticks(rotation=60)\n",
    "plt.title('Popularity of shopping malls among males for clothes')"
   ]
  },
  {
   "attachments": {},
   "cell_type": "markdown",
   "metadata": {},
   "source": [
    "There were no double entries of customer ids. The top 3 most preferred shopping mall for clothes purchased by men were Mall of Instabul, Kanyon and Metrocity in order. This is in order from the highest to the lowest."
   ]
  },
  {
   "attachments": {},
   "cell_type": "markdown",
   "metadata": {},
   "source": [
    "# Cosmetics Analysis"
   ]
  },
  {
   "attachments": {},
   "cell_type": "markdown",
   "metadata": {},
   "source": [
    "Cosmetics were the secod most preferred items in the dataset"
   ]
  },
  {
   "cell_type": "code",
   "execution_count": 85,
   "metadata": {},
   "outputs": [
    {
     "data": {
      "text/html": [
       "<div>\n",
       "<style scoped>\n",
       "    .dataframe tbody tr th:only-of-type {\n",
       "        vertical-align: middle;\n",
       "    }\n",
       "\n",
       "    .dataframe tbody tr th {\n",
       "        vertical-align: top;\n",
       "    }\n",
       "\n",
       "    .dataframe thead th {\n",
       "        text-align: right;\n",
       "    }\n",
       "</style>\n",
       "<table border=\"1\" class=\"dataframe\">\n",
       "  <thead>\n",
       "    <tr style=\"text-align: right;\">\n",
       "      <th></th>\n",
       "      <th>customer_id</th>\n",
       "      <th>gender</th>\n",
       "      <th>age</th>\n",
       "      <th>category</th>\n",
       "      <th>quantity</th>\n",
       "      <th>price</th>\n",
       "      <th>payment_method</th>\n",
       "      <th>invoice_date</th>\n",
       "      <th>shopping_mall</th>\n",
       "      <th>age_grp</th>\n",
       "    </tr>\n",
       "    <tr>\n",
       "      <th>invoice_no</th>\n",
       "      <th></th>\n",
       "      <th></th>\n",
       "      <th></th>\n",
       "      <th></th>\n",
       "      <th></th>\n",
       "      <th></th>\n",
       "      <th></th>\n",
       "      <th></th>\n",
       "      <th></th>\n",
       "      <th></th>\n",
       "    </tr>\n",
       "  </thead>\n",
       "  <tbody>\n",
       "    <tr>\n",
       "      <th>I121056</th>\n",
       "      <td>C151197</td>\n",
       "      <td>Female</td>\n",
       "      <td>49</td>\n",
       "      <td>Cosmetics</td>\n",
       "      <td>1</td>\n",
       "      <td>40.66</td>\n",
       "      <td>Cash</td>\n",
       "      <td>2022-03-13</td>\n",
       "      <td>Istinye Park</td>\n",
       "      <td>43-54</td>\n",
       "    </tr>\n",
       "    <tr>\n",
       "      <th>I196704</th>\n",
       "      <td>C289625</td>\n",
       "      <td>Female</td>\n",
       "      <td>25</td>\n",
       "      <td>Cosmetics</td>\n",
       "      <td>5</td>\n",
       "      <td>203.30</td>\n",
       "      <td>Credit Card</td>\n",
       "      <td>2022-04-20</td>\n",
       "      <td>Mall of Istanbul</td>\n",
       "      <td>18-30</td>\n",
       "    </tr>\n",
       "    <tr>\n",
       "      <th>I209744</th>\n",
       "      <td>C251229</td>\n",
       "      <td>Male</td>\n",
       "      <td>29</td>\n",
       "      <td>Cosmetics</td>\n",
       "      <td>3</td>\n",
       "      <td>121.98</td>\n",
       "      <td>Credit Card</td>\n",
       "      <td>2021-04-29</td>\n",
       "      <td>Istinye Park</td>\n",
       "      <td>18-30</td>\n",
       "    </tr>\n",
       "    <tr>\n",
       "      <th>I138674</th>\n",
       "      <td>C155059</td>\n",
       "      <td>Male</td>\n",
       "      <td>67</td>\n",
       "      <td>Cosmetics</td>\n",
       "      <td>2</td>\n",
       "      <td>81.32</td>\n",
       "      <td>Credit Card</td>\n",
       "      <td>2022-02-14</td>\n",
       "      <td>Metropol AVM</td>\n",
       "      <td>55-70</td>\n",
       "    </tr>\n",
       "    <tr>\n",
       "      <th>I752693</th>\n",
       "      <td>C306662</td>\n",
       "      <td>Female</td>\n",
       "      <td>48</td>\n",
       "      <td>Cosmetics</td>\n",
       "      <td>3</td>\n",
       "      <td>121.98</td>\n",
       "      <td>Cash</td>\n",
       "      <td>2022-04-28</td>\n",
       "      <td>Metrocity</td>\n",
       "      <td>43-54</td>\n",
       "    </tr>\n",
       "  </tbody>\n",
       "</table>\n",
       "</div>"
      ],
      "text/plain": [
       "           customer_id  gender  age   category  quantity   price  \\\n",
       "invoice_no                                                         \n",
       "I121056        C151197  Female   49  Cosmetics         1   40.66   \n",
       "I196704        C289625  Female   25  Cosmetics         5  203.30   \n",
       "I209744        C251229    Male   29  Cosmetics         3  121.98   \n",
       "I138674        C155059    Male   67  Cosmetics         2   81.32   \n",
       "I752693        C306662  Female   48  Cosmetics         3  121.98   \n",
       "\n",
       "           payment_method invoice_date     shopping_mall age_grp  \n",
       "invoice_no                                                        \n",
       "I121056              Cash   2022-03-13      Istinye Park   43-54  \n",
       "I196704       Credit Card   2022-04-20  Mall of Istanbul   18-30  \n",
       "I209744       Credit Card   2021-04-29      Istinye Park   18-30  \n",
       "I138674       Credit Card   2022-02-14      Metropol AVM   55-70  \n",
       "I752693              Cash   2022-04-28         Metrocity   43-54  "
      ]
     },
     "execution_count": 85,
     "metadata": {},
     "output_type": "execute_result"
    }
   ],
   "source": [
    "cosmetic_data = data[data['category']=='Cosmetics']\n",
    "cosmetic_data.head()"
   ]
  },
  {
   "cell_type": "code",
   "execution_count": 86,
   "metadata": {},
   "outputs": [
    {
     "data": {
      "text/html": [
       "<div>\n",
       "<style scoped>\n",
       "    .dataframe tbody tr th:only-of-type {\n",
       "        vertical-align: middle;\n",
       "    }\n",
       "\n",
       "    .dataframe tbody tr th {\n",
       "        vertical-align: top;\n",
       "    }\n",
       "\n",
       "    .dataframe thead th {\n",
       "        text-align: right;\n",
       "    }\n",
       "</style>\n",
       "<table border=\"1\" class=\"dataframe\">\n",
       "  <thead>\n",
       "    <tr style=\"text-align: right;\">\n",
       "      <th></th>\n",
       "      <th>age</th>\n",
       "      <th>quantity</th>\n",
       "      <th>price</th>\n",
       "    </tr>\n",
       "  </thead>\n",
       "  <tbody>\n",
       "    <tr>\n",
       "      <th>count</th>\n",
       "      <td>15097.000000</td>\n",
       "      <td>15097.000000</td>\n",
       "      <td>15097.000000</td>\n",
       "    </tr>\n",
       "    <tr>\n",
       "      <th>mean</th>\n",
       "      <td>43.580645</td>\n",
       "      <td>3.011525</td>\n",
       "      <td>122.448626</td>\n",
       "    </tr>\n",
       "    <tr>\n",
       "      <th>std</th>\n",
       "      <td>14.936556</td>\n",
       "      <td>1.413136</td>\n",
       "      <td>57.458097</td>\n",
       "    </tr>\n",
       "    <tr>\n",
       "      <th>min</th>\n",
       "      <td>18.000000</td>\n",
       "      <td>1.000000</td>\n",
       "      <td>40.660000</td>\n",
       "    </tr>\n",
       "    <tr>\n",
       "      <th>25%</th>\n",
       "      <td>31.000000</td>\n",
       "      <td>2.000000</td>\n",
       "      <td>81.320000</td>\n",
       "    </tr>\n",
       "    <tr>\n",
       "      <th>50%</th>\n",
       "      <td>44.000000</td>\n",
       "      <td>3.000000</td>\n",
       "      <td>121.980000</td>\n",
       "    </tr>\n",
       "    <tr>\n",
       "      <th>75%</th>\n",
       "      <td>56.000000</td>\n",
       "      <td>4.000000</td>\n",
       "      <td>162.640000</td>\n",
       "    </tr>\n",
       "    <tr>\n",
       "      <th>max</th>\n",
       "      <td>69.000000</td>\n",
       "      <td>5.000000</td>\n",
       "      <td>203.300000</td>\n",
       "    </tr>\n",
       "  </tbody>\n",
       "</table>\n",
       "</div>"
      ],
      "text/plain": [
       "                age      quantity         price\n",
       "count  15097.000000  15097.000000  15097.000000\n",
       "mean      43.580645      3.011525    122.448626\n",
       "std       14.936556      1.413136     57.458097\n",
       "min       18.000000      1.000000     40.660000\n",
       "25%       31.000000      2.000000     81.320000\n",
       "50%       44.000000      3.000000    121.980000\n",
       "75%       56.000000      4.000000    162.640000\n",
       "max       69.000000      5.000000    203.300000"
      ]
     },
     "execution_count": 86,
     "metadata": {},
     "output_type": "execute_result"
    }
   ],
   "source": [
    "cosmetic_data.describe()"
   ]
  },
  {
   "cell_type": "code",
   "execution_count": 89,
   "metadata": {},
   "outputs": [
    {
     "data": {
      "text/plain": [
       "Text(0.5, 1.0, 'Popularity of Cosmetics purchase among the genders')"
      ]
     },
     "execution_count": 89,
     "metadata": {},
     "output_type": "execute_result"
    },
    {
     "data": {
      "image/png": "[encoded data removed]",
      "text/plain": [
       "<Figure size 720x576 with 1 Axes>"
      ]
     },
     "metadata": {
      "needs_background": "light"
     },
     "output_type": "display_data"
    }
   ],
   "source": [
    "plt.subplots(figsize=(10,8))\n",
    "sns.histplot(x='age_grp', hue='gender', data=cosmetic_data)\n",
    "plt.title('Popularity of Cosmetics purchase among the genders')"
   ]
  },
  {
   "attachments": {},
   "cell_type": "markdown",
   "metadata": {},
   "source": [
    "There were more females buying the cosmetics than the males. The majority of the females registered under the age group of 55-70 years. It is also in that age group that we also had the highest number of males."
   ]
  },
  {
   "cell_type": "code",
   "execution_count": 111,
   "metadata": {},
   "outputs": [
    {
     "data": {
      "text/plain": [
       "Text(0.5, 1.0, 'gender popularity for cosmetics')"
      ]
     },
     "execution_count": 111,
     "metadata": {},
     "output_type": "execute_result"
    },
    {
     "data": {
      "image/png": "[encoded data removed]",
      "text/plain": [
       "<Figure size 720x576 with 1 Axes>"
      ]
     },
     "metadata": {
      "needs_background": "light"
     },
     "output_type": "display_data"
    }
   ],
   "source": [
    "plt.subplots(figsize=(10,8))\n",
    "sns.histplot(x='age_grp',hue='gender', data=cosmetic_data)\n",
    "plt.title('gender popularity for cosmetics')"
   ]
  },
  {
   "attachments": {},
   "cell_type": "markdown",
   "metadata": {},
   "source": [
    "Most of the cosmetics shoppig was done by the females for all the age group classification done. The highes-t entry was observed in the group 55-70 years. After this age group, the group that had the nect highest entry was the 18-30 years age group."
   ]
  },
  {
   "cell_type": "code",
   "execution_count": 106,
   "metadata": {},
   "outputs": [
    {
     "data": {
      "text/plain": [
       "Text(0.5, 1.0, 'Popularity of Shopping malls for each gender')"
      ]
     },
     "execution_count": 106,
     "metadata": {},
     "output_type": "execute_result"
    },
    {
     "data": {
      "image/png": "[encoded data removed]",
      "text/plain": [
       "<Figure size 720x576 with 1 Axes>"
      ]
     },
     "metadata": {
      "needs_background": "light"
     },
     "output_type": "display_data"
    }
   ],
   "source": [
    "plt.subplots(figsize=(10,8))\n",
    "sns.histplot(x='shopping_mall',hue='gender', data=cosmetic_data)\n",
    "plt.xticks(rotation=60)\n",
    "plt.title('Popularity of Shopping malls for each gender')"
   ]
  },
  {
   "attachments": {},
   "cell_type": "markdown",
   "metadata": {},
   "source": [
    "Kayon and Mall of Instabul were the most preferred malls for both genders for shopping cosmetics."
   ]
  },
  {
   "cell_type": "code",
   "execution_count": 114,
   "metadata": {},
   "outputs": [
    {
     "data": {
      "text/html": [
       "<div>\n",
       "<style scoped>\n",
       "    .dataframe tbody tr th:only-of-type {\n",
       "        vertical-align: middle;\n",
       "    }\n",
       "\n",
       "    .dataframe tbody tr th {\n",
       "        vertical-align: top;\n",
       "    }\n",
       "\n",
       "    .dataframe thead th {\n",
       "        text-align: right;\n",
       "    }\n",
       "</style>\n",
       "<table border=\"1\" class=\"dataframe\">\n",
       "  <thead>\n",
       "    <tr style=\"text-align: right;\">\n",
       "      <th></th>\n",
       "      <th>customer_id</th>\n",
       "      <th>gender</th>\n",
       "      <th>age</th>\n",
       "      <th>category</th>\n",
       "      <th>quantity</th>\n",
       "      <th>price</th>\n",
       "      <th>payment_method</th>\n",
       "      <th>invoice_date</th>\n",
       "      <th>shopping_mall</th>\n",
       "      <th>age_grp</th>\n",
       "    </tr>\n",
       "    <tr>\n",
       "      <th>invoice_no</th>\n",
       "      <th></th>\n",
       "      <th></th>\n",
       "      <th></th>\n",
       "      <th></th>\n",
       "      <th></th>\n",
       "      <th></th>\n",
       "      <th></th>\n",
       "      <th></th>\n",
       "      <th></th>\n",
       "      <th></th>\n",
       "    </tr>\n",
       "  </thead>\n",
       "  <tbody>\n",
       "    <tr>\n",
       "      <th>I209744</th>\n",
       "      <td>C251229</td>\n",
       "      <td>Male</td>\n",
       "      <td>29</td>\n",
       "      <td>Cosmetics</td>\n",
       "      <td>3</td>\n",
       "      <td>121.98</td>\n",
       "      <td>Credit Card</td>\n",
       "      <td>2021-04-29</td>\n",
       "      <td>Istinye Park</td>\n",
       "      <td>18-30</td>\n",
       "    </tr>\n",
       "    <tr>\n",
       "      <th>I138674</th>\n",
       "      <td>C155059</td>\n",
       "      <td>Male</td>\n",
       "      <td>67</td>\n",
       "      <td>Cosmetics</td>\n",
       "      <td>2</td>\n",
       "      <td>81.32</td>\n",
       "      <td>Credit Card</td>\n",
       "      <td>2022-02-14</td>\n",
       "      <td>Metropol AVM</td>\n",
       "      <td>55-70</td>\n",
       "    </tr>\n",
       "    <tr>\n",
       "      <th>I269690</th>\n",
       "      <td>C126436</td>\n",
       "      <td>Male</td>\n",
       "      <td>18</td>\n",
       "      <td>Cosmetics</td>\n",
       "      <td>3</td>\n",
       "      <td>121.98</td>\n",
       "      <td>Debit Card</td>\n",
       "      <td>2022-02-07</td>\n",
       "      <td>Zorlu Center</td>\n",
       "      <td>18-30</td>\n",
       "    </tr>\n",
       "    <tr>\n",
       "      <th>I321683</th>\n",
       "      <td>C542025</td>\n",
       "      <td>Male</td>\n",
       "      <td>60</td>\n",
       "      <td>Cosmetics</td>\n",
       "      <td>4</td>\n",
       "      <td>162.64</td>\n",
       "      <td>Credit Card</td>\n",
       "      <td>2023-01-06</td>\n",
       "      <td>Metrocity</td>\n",
       "      <td>55-70</td>\n",
       "    </tr>\n",
       "    <tr>\n",
       "      <th>I256691</th>\n",
       "      <td>C152549</td>\n",
       "      <td>Male</td>\n",
       "      <td>24</td>\n",
       "      <td>Cosmetics</td>\n",
       "      <td>1</td>\n",
       "      <td>40.66</td>\n",
       "      <td>Cash</td>\n",
       "      <td>2022-02-04</td>\n",
       "      <td>Metrocity</td>\n",
       "      <td>18-30</td>\n",
       "    </tr>\n",
       "  </tbody>\n",
       "</table>\n",
       "</div>"
      ],
      "text/plain": [
       "           customer_id gender  age   category  quantity   price  \\\n",
       "invoice_no                                                        \n",
       "I209744        C251229   Male   29  Cosmetics         3  121.98   \n",
       "I138674        C155059   Male   67  Cosmetics         2   81.32   \n",
       "I269690        C126436   Male   18  Cosmetics         3  121.98   \n",
       "I321683        C542025   Male   60  Cosmetics         4  162.64   \n",
       "I256691        C152549   Male   24  Cosmetics         1   40.66   \n",
       "\n",
       "           payment_method invoice_date shopping_mall age_grp  \n",
       "invoice_no                                                    \n",
       "I209744       Credit Card   2021-04-29  Istinye Park   18-30  \n",
       "I138674       Credit Card   2022-02-14  Metropol AVM   55-70  \n",
       "I269690        Debit Card   2022-02-07  Zorlu Center   18-30  \n",
       "I321683       Credit Card   2023-01-06     Metrocity   55-70  \n",
       "I256691              Cash   2022-02-04     Metrocity   18-30  "
      ]
     },
     "execution_count": 114,
     "metadata": {},
     "output_type": "execute_result"
    }
   ],
   "source": [
    "male_cosmetic = cosmetic_data[cosmetic_data.gender=='Male']\n",
    "Female_cosmetic = cosmetic_data[cosmetic_data.gender=='Female']\n",
    "male_cosmetic.head()"
   ]
  },
  {
   "cell_type": "code",
   "execution_count": 113,
   "metadata": {},
   "outputs": [
    {
     "data": {
      "text/plain": [
       "Text(0.5, 1.0, 'Popularity of the Age groups and payment methods for males')"
      ]
     },
     "execution_count": 113,
     "metadata": {},
     "output_type": "execute_result"
    },
    {
     "data": {
      "image/png": "[encoded data removed]",
      "text/plain": [
       "<Figure size 720x576 with 1 Axes>"
      ]
     },
     "metadata": {
      "needs_background": "light"
     },
     "output_type": "display_data"
    }
   ],
   "source": [
    "plt.subplots(figsize=(10,8))\n",
    "sns.histplot(x='age_grp', hue='payment_method', data=male_cosmetic)\n",
    "plt.title('Popularity of the Age groups and payment methods for males')"
   ]
  },
  {
   "cell_type": "code",
   "execution_count": 115,
   "metadata": {},
   "outputs": [
    {
     "data": {
      "text/plain": [
       "Text(0.5, 1.0, 'Popularity of the Age groups and payment methods for Females')"
      ]
     },
     "execution_count": 115,
     "metadata": {},
     "output_type": "execute_result"
    },
    {
     "data": {
      "image/png": "[encoded data removed]",
      "text/plain": [
       "<Figure size 720x576 with 1 Axes>"
      ]
     },
     "metadata": {
      "needs_background": "light"
     },
     "output_type": "display_data"
    }
   ],
   "source": [
    "plt.subplots(figsize=(10,8))\n",
    "sns.histplot(x='age_grp', hue='payment_method', data=Female_cosmetic)\n",
    "plt.title('Popularity of the Age groups and payment methods for Females')"
   ]
  },
  {
   "attachments": {},
   "cell_type": "markdown",
   "metadata": {},
   "source": [
    "Cash took dominance among the four age groups followed by credit cards, the least preferred was debit cards. The age group with the highest number of entries was 55-70 years. Credit card etries were also highest in that age group for oth the males and females considered in the analysis."
   ]
  },
  {
   "attachments": {},
   "cell_type": "markdown",
   "metadata": {},
   "source": [
    "# Food And Beverage Analysis"
   ]
  },
  {
   "attachments": {},
   "cell_type": "markdown",
   "metadata": {},
   "source": [
    "Food and Beverages were third in the list of the most popular categories in the dataset among the target population"
   ]
  },
  {
   "cell_type": "code",
   "execution_count": 116,
   "metadata": {},
   "outputs": [
    {
     "data": {
      "text/html": [
       "<div>\n",
       "<style scoped>\n",
       "    .dataframe tbody tr th:only-of-type {\n",
       "        vertical-align: middle;\n",
       "    }\n",
       "\n",
       "    .dataframe tbody tr th {\n",
       "        vertical-align: top;\n",
       "    }\n",
       "\n",
       "    .dataframe thead th {\n",
       "        text-align: right;\n",
       "    }\n",
       "</style>\n",
       "<table border=\"1\" class=\"dataframe\">\n",
       "  <thead>\n",
       "    <tr style=\"text-align: right;\">\n",
       "      <th></th>\n",
       "      <th>customer_id</th>\n",
       "      <th>gender</th>\n",
       "      <th>age</th>\n",
       "      <th>category</th>\n",
       "      <th>quantity</th>\n",
       "      <th>price</th>\n",
       "      <th>payment_method</th>\n",
       "      <th>invoice_date</th>\n",
       "      <th>shopping_mall</th>\n",
       "      <th>age_grp</th>\n",
       "    </tr>\n",
       "    <tr>\n",
       "      <th>invoice_no</th>\n",
       "      <th></th>\n",
       "      <th></th>\n",
       "      <th></th>\n",
       "      <th></th>\n",
       "      <th></th>\n",
       "      <th></th>\n",
       "      <th></th>\n",
       "      <th></th>\n",
       "      <th></th>\n",
       "      <th></th>\n",
       "    </tr>\n",
       "  </thead>\n",
       "  <tbody>\n",
       "    <tr>\n",
       "      <th>I306368</th>\n",
       "      <td>C240286</td>\n",
       "      <td>Female</td>\n",
       "      <td>36</td>\n",
       "      <td>Food &amp; Beverage</td>\n",
       "      <td>2</td>\n",
       "      <td>10.46</td>\n",
       "      <td>Cash</td>\n",
       "      <td>2022-12-25</td>\n",
       "      <td>Metrocity</td>\n",
       "      <td>31-42</td>\n",
       "    </tr>\n",
       "    <tr>\n",
       "      <th>I195744</th>\n",
       "      <td>C330667</td>\n",
       "      <td>Female</td>\n",
       "      <td>42</td>\n",
       "      <td>Food &amp; Beverage</td>\n",
       "      <td>3</td>\n",
       "      <td>15.69</td>\n",
       "      <td>Credit Card</td>\n",
       "      <td>2022-01-05</td>\n",
       "      <td>Zorlu Center</td>\n",
       "      <td>31-42</td>\n",
       "    </tr>\n",
       "    <tr>\n",
       "      <th>I412481</th>\n",
       "      <td>C125696</td>\n",
       "      <td>Female</td>\n",
       "      <td>27</td>\n",
       "      <td>Food &amp; Beverage</td>\n",
       "      <td>1</td>\n",
       "      <td>5.23</td>\n",
       "      <td>Cash</td>\n",
       "      <td>2021-05-01</td>\n",
       "      <td>Cevahir AVM</td>\n",
       "      <td>18-30</td>\n",
       "    </tr>\n",
       "    <tr>\n",
       "      <th>I339732</th>\n",
       "      <td>C276887</td>\n",
       "      <td>Male</td>\n",
       "      <td>68</td>\n",
       "      <td>Food &amp; Beverage</td>\n",
       "      <td>1</td>\n",
       "      <td>5.23</td>\n",
       "      <td>Credit Card</td>\n",
       "      <td>2023-01-04</td>\n",
       "      <td>Emaar Square Mall</td>\n",
       "      <td>55-70</td>\n",
       "    </tr>\n",
       "    <tr>\n",
       "      <th>I246550</th>\n",
       "      <td>C716788</td>\n",
       "      <td>Female</td>\n",
       "      <td>49</td>\n",
       "      <td>Food &amp; Beverage</td>\n",
       "      <td>3</td>\n",
       "      <td>15.69</td>\n",
       "      <td>Cash</td>\n",
       "      <td>2021-09-10</td>\n",
       "      <td>Zorlu Center</td>\n",
       "      <td>43-54</td>\n",
       "    </tr>\n",
       "  </tbody>\n",
       "</table>\n",
       "</div>"
      ],
      "text/plain": [
       "           customer_id  gender  age         category  quantity  price  \\\n",
       "invoice_no                                                              \n",
       "I306368        C240286  Female   36  Food & Beverage         2  10.46   \n",
       "I195744        C330667  Female   42  Food & Beverage         3  15.69   \n",
       "I412481        C125696  Female   27  Food & Beverage         1   5.23   \n",
       "I339732        C276887    Male   68  Food & Beverage         1   5.23   \n",
       "I246550        C716788  Female   49  Food & Beverage         3  15.69   \n",
       "\n",
       "           payment_method invoice_date      shopping_mall age_grp  \n",
       "invoice_no                                                         \n",
       "I306368              Cash   2022-12-25          Metrocity   31-42  \n",
       "I195744       Credit Card   2022-01-05       Zorlu Center   31-42  \n",
       "I412481              Cash   2021-05-01        Cevahir AVM   18-30  \n",
       "I339732       Credit Card   2023-01-04  Emaar Square Mall   55-70  \n",
       "I246550              Cash   2021-09-10       Zorlu Center   43-54  "
      ]
     },
     "execution_count": 116,
     "metadata": {},
     "output_type": "execute_result"
    }
   ],
   "source": [
    "Food_dataset = data[data.category=='Food & Beverage']\n",
    "Food_dataset.head()"
   ]
  },
  {
   "cell_type": "code",
   "execution_count": 117,
   "metadata": {},
   "outputs": [
    {
     "data": {
      "text/html": [
       "<div>\n",
       "<style scoped>\n",
       "    .dataframe tbody tr th:only-of-type {\n",
       "        vertical-align: middle;\n",
       "    }\n",
       "\n",
       "    .dataframe tbody tr th {\n",
       "        vertical-align: top;\n",
       "    }\n",
       "\n",
       "    .dataframe thead th {\n",
       "        text-align: right;\n",
       "    }\n",
       "</style>\n",
       "<table border=\"1\" class=\"dataframe\">\n",
       "  <thead>\n",
       "    <tr style=\"text-align: right;\">\n",
       "      <th></th>\n",
       "      <th>age</th>\n",
       "      <th>quantity</th>\n",
       "      <th>price</th>\n",
       "    </tr>\n",
       "  </thead>\n",
       "  <tbody>\n",
       "    <tr>\n",
       "      <th>count</th>\n",
       "      <td>14776.000000</td>\n",
       "      <td>14776.000000</td>\n",
       "      <td>14776.000000</td>\n",
       "    </tr>\n",
       "    <tr>\n",
       "      <th>mean</th>\n",
       "      <td>43.354426</td>\n",
       "      <td>2.996548</td>\n",
       "      <td>15.671948</td>\n",
       "    </tr>\n",
       "    <tr>\n",
       "      <th>std</th>\n",
       "      <td>14.981172</td>\n",
       "      <td>1.419154</td>\n",
       "      <td>7.422176</td>\n",
       "    </tr>\n",
       "    <tr>\n",
       "      <th>min</th>\n",
       "      <td>18.000000</td>\n",
       "      <td>1.000000</td>\n",
       "      <td>5.230000</td>\n",
       "    </tr>\n",
       "    <tr>\n",
       "      <th>25%</th>\n",
       "      <td>31.000000</td>\n",
       "      <td>2.000000</td>\n",
       "      <td>10.460000</td>\n",
       "    </tr>\n",
       "    <tr>\n",
       "      <th>50%</th>\n",
       "      <td>43.000000</td>\n",
       "      <td>3.000000</td>\n",
       "      <td>15.690000</td>\n",
       "    </tr>\n",
       "    <tr>\n",
       "      <th>75%</th>\n",
       "      <td>56.000000</td>\n",
       "      <td>4.000000</td>\n",
       "      <td>20.920000</td>\n",
       "    </tr>\n",
       "    <tr>\n",
       "      <th>max</th>\n",
       "      <td>69.000000</td>\n",
       "      <td>5.000000</td>\n",
       "      <td>26.150000</td>\n",
       "    </tr>\n",
       "  </tbody>\n",
       "</table>\n",
       "</div>"
      ],
      "text/plain": [
       "                age      quantity         price\n",
       "count  14776.000000  14776.000000  14776.000000\n",
       "mean      43.354426      2.996548     15.671948\n",
       "std       14.981172      1.419154      7.422176\n",
       "min       18.000000      1.000000      5.230000\n",
       "25%       31.000000      2.000000     10.460000\n",
       "50%       43.000000      3.000000     15.690000\n",
       "75%       56.000000      4.000000     20.920000\n",
       "max       69.000000      5.000000     26.150000"
      ]
     },
     "execution_count": 117,
     "metadata": {},
     "output_type": "execute_result"
    }
   ],
   "source": [
    "Food_dataset.describe()"
   ]
  },
  {
   "cell_type": "code",
   "execution_count": 118,
   "metadata": {},
   "outputs": [
    {
     "data": {
      "text/plain": [
       "Text(0.5, 1.0, 'Count of Genders purchasing food and beverages')"
      ]
     },
     "execution_count": 118,
     "metadata": {},
     "output_type": "execute_result"
    },
    {
     "data": {
      "image/png": "[encoded data removed]",
      "text/plain": [
       "<Figure size 720x576 with 1 Axes>"
      ]
     },
     "metadata": {
      "needs_background": "light"
     },
     "output_type": "display_data"
    }
   ],
   "source": [
    "plt.subplots(figsize=(10,8))\n",
    "sns.histplot(x='age_grp', hue='gender', data=Food_dataset)\n",
    "plt.title('Count of Genders purchasing food and beverages')"
   ]
  },
  {
   "attachments": {},
   "cell_type": "markdown",
   "metadata": {},
   "source": [
    "Comments:"
   ]
  },
  {
   "cell_type": "code",
   "execution_count": 119,
   "metadata": {},
   "outputs": [
    {
     "data": {
      "text/plain": [
       "Text(0.5, 1.0, 'Popularity of payment methods in purchasing food and beverages')"
      ]
     },
     "execution_count": 119,
     "metadata": {},
     "output_type": "execute_result"
    },
    {
     "data": {
      "image/png": "[encoded data removed]",
      "text/plain": [
       "<Figure size 720x576 with 1 Axes>"
      ]
     },
     "metadata": {
      "needs_background": "light"
     },
     "output_type": "display_data"
    }
   ],
   "source": [
    "plt.subplots(figsize=(10,8))\n",
    "sns.histplot(x='age_grp', hue='payment_method',data=Food_dataset)\n",
    "plt.title('Popularity of payment methods in purchasing food and beverages')"
   ]
  },
  {
   "attachments": {},
   "cell_type": "markdown",
   "metadata": {},
   "source": [
    "Comments:"
   ]
  },
  {
   "attachments": {},
   "cell_type": "markdown",
   "metadata": {},
   "source": [
    "# Technology Analysis"
   ]
  },
  {
   "cell_type": "code",
   "execution_count": 122,
   "metadata": {},
   "outputs": [
    {
     "data": {
      "text/html": [
       "<div>\n",
       "<style scoped>\n",
       "    .dataframe tbody tr th:only-of-type {\n",
       "        vertical-align: middle;\n",
       "    }\n",
       "\n",
       "    .dataframe tbody tr th {\n",
       "        vertical-align: top;\n",
       "    }\n",
       "\n",
       "    .dataframe thead th {\n",
       "        text-align: right;\n",
       "    }\n",
       "</style>\n",
       "<table border=\"1\" class=\"dataframe\">\n",
       "  <thead>\n",
       "    <tr style=\"text-align: right;\">\n",
       "      <th></th>\n",
       "      <th>customer_id</th>\n",
       "      <th>gender</th>\n",
       "      <th>age</th>\n",
       "      <th>category</th>\n",
       "      <th>quantity</th>\n",
       "      <th>price</th>\n",
       "      <th>payment_method</th>\n",
       "      <th>invoice_date</th>\n",
       "      <th>shopping_mall</th>\n",
       "      <th>age_grp</th>\n",
       "    </tr>\n",
       "    <tr>\n",
       "      <th>invoice_no</th>\n",
       "      <th></th>\n",
       "      <th></th>\n",
       "      <th></th>\n",
       "      <th></th>\n",
       "      <th></th>\n",
       "      <th></th>\n",
       "      <th></th>\n",
       "      <th></th>\n",
       "      <th></th>\n",
       "      <th></th>\n",
       "    </tr>\n",
       "  </thead>\n",
       "  <tbody>\n",
       "    <tr>\n",
       "      <th>I252275</th>\n",
       "      <td>C313348</td>\n",
       "      <td>Male</td>\n",
       "      <td>44</td>\n",
       "      <td>Technology</td>\n",
       "      <td>5</td>\n",
       "      <td>5250.0</td>\n",
       "      <td>Cash</td>\n",
       "      <td>2021-10-26</td>\n",
       "      <td>Kanyon</td>\n",
       "      <td>43-54</td>\n",
       "    </tr>\n",
       "    <tr>\n",
       "      <th>I160777</th>\n",
       "      <td>C626042</td>\n",
       "      <td>Female</td>\n",
       "      <td>43</td>\n",
       "      <td>Technology</td>\n",
       "      <td>4</td>\n",
       "      <td>4200.0</td>\n",
       "      <td>Cash</td>\n",
       "      <td>2022-02-22</td>\n",
       "      <td>Metrocity</td>\n",
       "      <td>43-54</td>\n",
       "    </tr>\n",
       "    <tr>\n",
       "      <th>I883721</th>\n",
       "      <td>C236859</td>\n",
       "      <td>Female</td>\n",
       "      <td>44</td>\n",
       "      <td>Technology</td>\n",
       "      <td>5</td>\n",
       "      <td>5250.0</td>\n",
       "      <td>Credit Card</td>\n",
       "      <td>2021-11-19</td>\n",
       "      <td>Mall of Istanbul</td>\n",
       "      <td>43-54</td>\n",
       "    </tr>\n",
       "    <tr>\n",
       "      <th>I289643</th>\n",
       "      <td>C584700</td>\n",
       "      <td>Female</td>\n",
       "      <td>43</td>\n",
       "      <td>Technology</td>\n",
       "      <td>2</td>\n",
       "      <td>2100.0</td>\n",
       "      <td>Cash</td>\n",
       "      <td>2022-08-22</td>\n",
       "      <td>Kanyon</td>\n",
       "      <td>43-54</td>\n",
       "    </tr>\n",
       "    <tr>\n",
       "      <th>I283443</th>\n",
       "      <td>C189493</td>\n",
       "      <td>Male</td>\n",
       "      <td>43</td>\n",
       "      <td>Technology</td>\n",
       "      <td>3</td>\n",
       "      <td>3150.0</td>\n",
       "      <td>Credit Card</td>\n",
       "      <td>2022-05-25</td>\n",
       "      <td>Viaport Outlet</td>\n",
       "      <td>43-54</td>\n",
       "    </tr>\n",
       "  </tbody>\n",
       "</table>\n",
       "</div>"
      ],
      "text/plain": [
       "           customer_id  gender  age    category  quantity   price  \\\n",
       "invoice_no                                                          \n",
       "I252275        C313348    Male   44  Technology         5  5250.0   \n",
       "I160777        C626042  Female   43  Technology         4  4200.0   \n",
       "I883721        C236859  Female   44  Technology         5  5250.0   \n",
       "I289643        C584700  Female   43  Technology         2  2100.0   \n",
       "I283443        C189493    Male   43  Technology         3  3150.0   \n",
       "\n",
       "           payment_method invoice_date     shopping_mall age_grp  \n",
       "invoice_no                                                        \n",
       "I252275              Cash   2021-10-26            Kanyon   43-54  \n",
       "I160777              Cash   2022-02-22         Metrocity   43-54  \n",
       "I883721       Credit Card   2021-11-19  Mall of Istanbul   43-54  \n",
       "I289643              Cash   2022-08-22            Kanyon   43-54  \n",
       "I283443       Credit Card   2022-05-25    Viaport Outlet   43-54  "
      ]
     },
     "execution_count": 122,
     "metadata": {},
     "output_type": "execute_result"
    }
   ],
   "source": [
    "Technology_dataset = data[data.category == 'Technology']\n",
    "Technology_dataset.head()"
   ]
  },
  {
   "cell_type": "code",
   "execution_count": 123,
   "metadata": {},
   "outputs": [
    {
     "data": {
      "text/html": [
       "<div>\n",
       "<style scoped>\n",
       "    .dataframe tbody tr th:only-of-type {\n",
       "        vertical-align: middle;\n",
       "    }\n",
       "\n",
       "    .dataframe tbody tr th {\n",
       "        vertical-align: top;\n",
       "    }\n",
       "\n",
       "    .dataframe thead th {\n",
       "        text-align: right;\n",
       "    }\n",
       "</style>\n",
       "<table border=\"1\" class=\"dataframe\">\n",
       "  <thead>\n",
       "    <tr style=\"text-align: right;\">\n",
       "      <th></th>\n",
       "      <th>age</th>\n",
       "      <th>quantity</th>\n",
       "      <th>price</th>\n",
       "    </tr>\n",
       "  </thead>\n",
       "  <tbody>\n",
       "    <tr>\n",
       "      <th>count</th>\n",
       "      <td>4996.000000</td>\n",
       "      <td>4996.000000</td>\n",
       "      <td>4996.000000</td>\n",
       "    </tr>\n",
       "    <tr>\n",
       "      <th>mean</th>\n",
       "      <td>43.368495</td>\n",
       "      <td>3.006605</td>\n",
       "      <td>3156.935548</td>\n",
       "    </tr>\n",
       "    <tr>\n",
       "      <th>std</th>\n",
       "      <td>14.835330</td>\n",
       "      <td>1.411009</td>\n",
       "      <td>1481.559805</td>\n",
       "    </tr>\n",
       "    <tr>\n",
       "      <th>min</th>\n",
       "      <td>18.000000</td>\n",
       "      <td>1.000000</td>\n",
       "      <td>1050.000000</td>\n",
       "    </tr>\n",
       "    <tr>\n",
       "      <th>25%</th>\n",
       "      <td>31.000000</td>\n",
       "      <td>2.000000</td>\n",
       "      <td>2100.000000</td>\n",
       "    </tr>\n",
       "    <tr>\n",
       "      <th>50%</th>\n",
       "      <td>43.000000</td>\n",
       "      <td>3.000000</td>\n",
       "      <td>3150.000000</td>\n",
       "    </tr>\n",
       "    <tr>\n",
       "      <th>75%</th>\n",
       "      <td>56.000000</td>\n",
       "      <td>4.000000</td>\n",
       "      <td>4200.000000</td>\n",
       "    </tr>\n",
       "    <tr>\n",
       "      <th>max</th>\n",
       "      <td>69.000000</td>\n",
       "      <td>5.000000</td>\n",
       "      <td>5250.000000</td>\n",
       "    </tr>\n",
       "  </tbody>\n",
       "</table>\n",
       "</div>"
      ],
      "text/plain": [
       "               age     quantity        price\n",
       "count  4996.000000  4996.000000  4996.000000\n",
       "mean     43.368495     3.006605  3156.935548\n",
       "std      14.835330     1.411009  1481.559805\n",
       "min      18.000000     1.000000  1050.000000\n",
       "25%      31.000000     2.000000  2100.000000\n",
       "50%      43.000000     3.000000  3150.000000\n",
       "75%      56.000000     4.000000  4200.000000\n",
       "max      69.000000     5.000000  5250.000000"
      ]
     },
     "execution_count": 123,
     "metadata": {},
     "output_type": "execute_result"
    }
   ],
   "source": [
    "Technology_dataset.describe()"
   ]
  },
  {
   "cell_type": "code",
   "execution_count": 124,
   "metadata": {},
   "outputs": [
    {
     "data": {
      "text/plain": [
       "Text(0.5, 1.0, 'Count of Genders purchasing Technology')"
      ]
     },
     "execution_count": 124,
     "metadata": {},
     "output_type": "execute_result"
    },
    {
     "data": {
      "image/png": "[encoded data removed]",
      "text/plain": [
       "<Figure size 720x576 with 1 Axes>"
      ]
     },
     "metadata": {
      "needs_background": "light"
     },
     "output_type": "display_data"
    }
   ],
   "source": [
    "plt.subplots(figsize=(10,8))\n",
    "sns.histplot(x='age_grp', hue='gender', data=Technology_dataset)\n",
    "plt.title('Count of Genders purchasing Technology')"
   ]
  },
  {
   "attachments": {},
   "cell_type": "markdown",
   "metadata": {},
   "source": [
    "Females dominated the market at the age group 55-70 years. In this same age group there were more men than the other age groups"
   ]
  },
  {
   "cell_type": "code",
   "execution_count": 125,
   "metadata": {},
   "outputs": [
    {
     "data": {
      "text/plain": [
       "Text(0.5, 1.0, 'Popularity of payment methods in purchasing Technology')"
      ]
     },
     "execution_count": 125,
     "metadata": {},
     "output_type": "execute_result"
    },
    {
     "data": {
      "image/png": "[encoded data removed]",
      "text/plain": [
       "<Figure size 720x576 with 1 Axes>"
      ]
     },
     "metadata": {
      "needs_background": "light"
     },
     "output_type": "display_data"
    }
   ],
   "source": [
    "plt.subplots(figsize=(10,8))\n",
    "sns.histplot(x='age_grp', hue='payment_method',data=Technology_dataset)\n",
    "plt.title('Popularity of payment methods in purchasing Technology')"
   ]
  },
  {
   "attachments": {},
   "cell_type": "markdown",
   "metadata": {},
   "source": [
    "Cash wast the most preferred mode of payment followeed by the credit cards ad finally the debit cards. The highest entry of all the 3 modes of payments were all recorded in the age group 55-70 years."
   ]
  },
  {
   "attachments": {},
   "cell_type": "markdown",
   "metadata": {},
   "source": [
    "# Shoes Analysis"
   ]
  },
  {
   "cell_type": "code",
   "execution_count": 129,
   "metadata": {},
   "outputs": [
    {
     "data": {
      "text/html": [
       "<div>\n",
       "<style scoped>\n",
       "    .dataframe tbody tr th:only-of-type {\n",
       "        vertical-align: middle;\n",
       "    }\n",
       "\n",
       "    .dataframe tbody tr th {\n",
       "        vertical-align: top;\n",
       "    }\n",
       "\n",
       "    .dataframe thead th {\n",
       "        text-align: right;\n",
       "    }\n",
       "</style>\n",
       "<table border=\"1\" class=\"dataframe\">\n",
       "  <thead>\n",
       "    <tr style=\"text-align: right;\">\n",
       "      <th></th>\n",
       "      <th>customer_id</th>\n",
       "      <th>gender</th>\n",
       "      <th>age</th>\n",
       "      <th>category</th>\n",
       "      <th>quantity</th>\n",
       "      <th>price</th>\n",
       "      <th>payment_method</th>\n",
       "      <th>invoice_date</th>\n",
       "      <th>shopping_mall</th>\n",
       "      <th>age_grp</th>\n",
       "    </tr>\n",
       "    <tr>\n",
       "      <th>invoice_no</th>\n",
       "      <th></th>\n",
       "      <th></th>\n",
       "      <th></th>\n",
       "      <th></th>\n",
       "      <th></th>\n",
       "      <th></th>\n",
       "      <th></th>\n",
       "      <th></th>\n",
       "      <th></th>\n",
       "      <th></th>\n",
       "    </tr>\n",
       "  </thead>\n",
       "  <tbody>\n",
       "    <tr>\n",
       "      <th>I317333</th>\n",
       "      <td>C111565</td>\n",
       "      <td>Male</td>\n",
       "      <td>21</td>\n",
       "      <td>Shoes</td>\n",
       "      <td>3</td>\n",
       "      <td>1800.51</td>\n",
       "      <td>Debit Card</td>\n",
       "      <td>2021-12-12</td>\n",
       "      <td>Forum Istanbul</td>\n",
       "      <td>18-30</td>\n",
       "    </tr>\n",
       "    <tr>\n",
       "      <th>I173702</th>\n",
       "      <td>C988172</td>\n",
       "      <td>Female</td>\n",
       "      <td>66</td>\n",
       "      <td>Shoes</td>\n",
       "      <td>5</td>\n",
       "      <td>3000.85</td>\n",
       "      <td>Credit Card</td>\n",
       "      <td>2021-05-16</td>\n",
       "      <td>Metropol AVM</td>\n",
       "      <td>55-70</td>\n",
       "    </tr>\n",
       "    <tr>\n",
       "      <th>I688768</th>\n",
       "      <td>C362288</td>\n",
       "      <td>Male</td>\n",
       "      <td>24</td>\n",
       "      <td>Shoes</td>\n",
       "      <td>5</td>\n",
       "      <td>3000.85</td>\n",
       "      <td>Credit Card</td>\n",
       "      <td>2021-11-07</td>\n",
       "      <td>Viaport Outlet</td>\n",
       "      <td>18-30</td>\n",
       "    </tr>\n",
       "    <tr>\n",
       "      <th>I217053</th>\n",
       "      <td>C192344</td>\n",
       "      <td>Male</td>\n",
       "      <td>50</td>\n",
       "      <td>Shoes</td>\n",
       "      <td>4</td>\n",
       "      <td>2400.68</td>\n",
       "      <td>Cash</td>\n",
       "      <td>2022-10-10</td>\n",
       "      <td>Emaar Square Mall</td>\n",
       "      <td>43-54</td>\n",
       "    </tr>\n",
       "    <tr>\n",
       "      <th>I655874</th>\n",
       "      <td>C447138</td>\n",
       "      <td>Female</td>\n",
       "      <td>65</td>\n",
       "      <td>Shoes</td>\n",
       "      <td>3</td>\n",
       "      <td>1800.51</td>\n",
       "      <td>Cash</td>\n",
       "      <td>2022-08-23</td>\n",
       "      <td>Cevahir AVM</td>\n",
       "      <td>55-70</td>\n",
       "    </tr>\n",
       "  </tbody>\n",
       "</table>\n",
       "</div>"
      ],
      "text/plain": [
       "           customer_id  gender  age category  quantity    price  \\\n",
       "invoice_no                                                        \n",
       "I317333        C111565    Male   21    Shoes         3  1800.51   \n",
       "I173702        C988172  Female   66    Shoes         5  3000.85   \n",
       "I688768        C362288    Male   24    Shoes         5  3000.85   \n",
       "I217053        C192344    Male   50    Shoes         4  2400.68   \n",
       "I655874        C447138  Female   65    Shoes         3  1800.51   \n",
       "\n",
       "           payment_method invoice_date      shopping_mall age_grp  \n",
       "invoice_no                                                         \n",
       "I317333        Debit Card   2021-12-12     Forum Istanbul   18-30  \n",
       "I173702       Credit Card   2021-05-16       Metropol AVM   55-70  \n",
       "I688768       Credit Card   2021-11-07     Viaport Outlet   18-30  \n",
       "I217053              Cash   2022-10-10  Emaar Square Mall   43-54  \n",
       "I655874              Cash   2022-08-23        Cevahir AVM   55-70  "
      ]
     },
     "execution_count": 129,
     "metadata": {},
     "output_type": "execute_result"
    }
   ],
   "source": [
    "Shoe_dataset = data[data.category == 'Shoes']\n",
    "Shoe_dataset.head()"
   ]
  },
  {
   "cell_type": "code",
   "execution_count": 131,
   "metadata": {},
   "outputs": [
    {
     "data": {
      "text/html": [
       "<div>\n",
       "<style scoped>\n",
       "    .dataframe tbody tr th:only-of-type {\n",
       "        vertical-align: middle;\n",
       "    }\n",
       "\n",
       "    .dataframe tbody tr th {\n",
       "        vertical-align: top;\n",
       "    }\n",
       "\n",
       "    .dataframe thead th {\n",
       "        text-align: right;\n",
       "    }\n",
       "</style>\n",
       "<table border=\"1\" class=\"dataframe\">\n",
       "  <thead>\n",
       "    <tr style=\"text-align: right;\">\n",
       "      <th></th>\n",
       "      <th>age</th>\n",
       "      <th>quantity</th>\n",
       "      <th>price</th>\n",
       "    </tr>\n",
       "  </thead>\n",
       "  <tbody>\n",
       "    <tr>\n",
       "      <th>count</th>\n",
       "      <td>10034.000000</td>\n",
       "      <td>10034.000000</td>\n",
       "      <td>10034.000000</td>\n",
       "    </tr>\n",
       "    <tr>\n",
       "      <th>mean</th>\n",
       "      <td>43.454953</td>\n",
       "      <td>3.011461</td>\n",
       "      <td>1807.388568</td>\n",
       "    </tr>\n",
       "    <tr>\n",
       "      <th>std</th>\n",
       "      <td>15.003153</td>\n",
       "      <td>1.408128</td>\n",
       "      <td>845.116269</td>\n",
       "    </tr>\n",
       "    <tr>\n",
       "      <th>min</th>\n",
       "      <td>18.000000</td>\n",
       "      <td>1.000000</td>\n",
       "      <td>600.170000</td>\n",
       "    </tr>\n",
       "    <tr>\n",
       "      <th>25%</th>\n",
       "      <td>30.000000</td>\n",
       "      <td>2.000000</td>\n",
       "      <td>1200.340000</td>\n",
       "    </tr>\n",
       "    <tr>\n",
       "      <th>50%</th>\n",
       "      <td>44.000000</td>\n",
       "      <td>3.000000</td>\n",
       "      <td>1800.510000</td>\n",
       "    </tr>\n",
       "    <tr>\n",
       "      <th>75%</th>\n",
       "      <td>57.000000</td>\n",
       "      <td>4.000000</td>\n",
       "      <td>2400.680000</td>\n",
       "    </tr>\n",
       "    <tr>\n",
       "      <th>max</th>\n",
       "      <td>69.000000</td>\n",
       "      <td>5.000000</td>\n",
       "      <td>3000.850000</td>\n",
       "    </tr>\n",
       "  </tbody>\n",
       "</table>\n",
       "</div>"
      ],
      "text/plain": [
       "                age      quantity         price\n",
       "count  10034.000000  10034.000000  10034.000000\n",
       "mean      43.454953      3.011461   1807.388568\n",
       "std       15.003153      1.408128    845.116269\n",
       "min       18.000000      1.000000    600.170000\n",
       "25%       30.000000      2.000000   1200.340000\n",
       "50%       44.000000      3.000000   1800.510000\n",
       "75%       57.000000      4.000000   2400.680000\n",
       "max       69.000000      5.000000   3000.850000"
      ]
     },
     "execution_count": 131,
     "metadata": {},
     "output_type": "execute_result"
    }
   ],
   "source": [
    "Shoe_dataset.describe()"
   ]
  },
  {
   "cell_type": "code",
   "execution_count": 130,
   "metadata": {},
   "outputs": [
    {
     "data": {
      "text/plain": [
       "Text(0.5, 1.0, 'Count of Genders purchasing Shoes')"
      ]
     },
     "execution_count": 130,
     "metadata": {},
     "output_type": "execute_result"
    },
    {
     "data": {
      "image/png": "[encoded data removed]",
      "text/plain": [
       "<Figure size 720x576 with 1 Axes>"
      ]
     },
     "metadata": {
      "needs_background": "light"
     },
     "output_type": "display_data"
    }
   ],
   "source": [
    "plt.subplots(figsize=(10,8))\n",
    "sns.histplot(x='age_grp', hue='gender', data=Shoe_dataset)\n",
    "plt.title('Count of Genders purchasing Shoes')"
   ]
  },
  {
   "attachments": {},
   "cell_type": "markdown",
   "metadata": {},
   "source": [
    "Females dominated the market with their highest number of purchases being in the age group 55-70 years, followed by the age group 18-30 years."
   ]
  },
  {
   "cell_type": "code",
   "execution_count": 132,
   "metadata": {},
   "outputs": [
    {
     "data": {
      "text/plain": [
       "Text(0.5, 1.0, 'Popularity of payment methods in purchasing Shoes')"
      ]
     },
     "execution_count": 132,
     "metadata": {},
     "output_type": "execute_result"
    },
    {
     "data": {
      "image/png": "[encoded data removed]",
      "text/plain": [
       "<Figure size 720x576 with 1 Axes>"
      ]
     },
     "metadata": {
      "needs_background": "light"
     },
     "output_type": "display_data"
    }
   ],
   "source": [
    "plt.subplots(figsize=(10,8))\n",
    "sns.histplot(x='age_grp', hue='payment_method',data=Shoe_dataset)\n",
    "plt.title('Popularity of payment methods in purchasing Shoes')"
   ]
  },
  {
   "attachments": {},
   "cell_type": "markdown",
   "metadata": {},
   "source": [
    "Cash was the most preferred mode of payment. It was highly used by the population in the age group 55-70 years. The secod most populer mode of payment was credit cards and finally the debit cards"
   ]
  },
  {
   "attachments": {},
   "cell_type": "markdown",
   "metadata": {},
   "source": [
    "# Conclusions"
   ]
  },
  {
   "attachments": {},
   "cell_type": "markdown",
   "metadata": {},
   "source": [
    "It can be conncluded that the largest population that does shopping was females across the top 5 categories of items sold in the different malls. This could be as a result of having a skewed population where the dominant population in  the target locations are females. This could be also as a result of biased data collection procedure.\n",
    "\n",
    "Cash was the most preferred mode of payment among all the top 5 categories. Most customers preferred to use cash and credit cards in most of the purchases unlike usig debit cards. From this it can be concluded that the trget population does not prefer having debts on their backs. They are for clearig the costs instantly raher than on a later date.\n",
    "\n",
    "Kanyon mall, Mall of Instabul and metropol mall are the top 3 most preferred malls for the customers to perform their trades. These malls could be located at very ideal locations with a ready market population. The malls could be doing well akso because of their rapport with their customers. Research shows that customers tend to shop at areas where they are well treated by the employees of the mall."
   ]
  },
  {
   "attachments": {},
   "cell_type": "markdown",
   "metadata": {},
   "source": [
    "# Recommendation"
   ]
  },
  {
   "attachments": {},
   "cell_type": "markdown",
   "metadata": {},
   "source": [
    "A further analysis on the gender distribution is to be conducted. Identification of various items in the different categories should be considered in the future inorder to get the effect of price on the purchasing power of the population. "
   ]
  }
 ],
 "metadata": {
  "kernelspec": {
   "display_name": "base",
   "language": "python",
   "name": "python3"
  },
  "language_info": {
   "codemirror_mode": {
    "name": "ipython",
    "version": 3
   },
   "file_extension": ".py",
   "mimetype": "text/x-python",
   "name": "python",
   "nbconvert_exporter": "python",
   "pygments_lexer": "ipython3",
   "version": "3.9.12"
  },
  "orig_nbformat": 4
 },
 "nbformat": 4,
 "nbformat_minor": 2
}
